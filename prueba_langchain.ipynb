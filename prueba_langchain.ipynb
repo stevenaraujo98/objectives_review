{
 "cells": [
  {
   "cell_type": "code",
   "execution_count": 1,
   "id": "debdd196",
   "metadata": {},
   "outputs": [],
   "source": [
    "# !pip install ollama -q\n",
    "# !pip install pypdf -q"
   ]
  },
  {
   "cell_type": "code",
   "execution_count": 2,
   "id": "9f580571",
   "metadata": {},
   "outputs": [],
   "source": [
    "# !pip install langchain -q\n",
    "# !pip install langchain-community -q\n",
    "# !pip install chromadb -q"
   ]
  },
  {
   "cell_type": "code",
   "execution_count": 3,
   "id": "78f06f7c",
   "metadata": {},
   "outputs": [],
   "source": [
    "import json"
   ]
  },
  {
   "cell_type": "code",
   "execution_count": 4,
   "id": "c7fb76b5",
   "metadata": {},
   "outputs": [],
   "source": [
    "from langchain.text_splitter import CharacterTextSplitter # dividir los textos\n",
    "from langchain.document_loaders import PyPDFLoader # cargar el pdf\n",
    "from langchain_community.vectorstores import Chroma # almacenar vectores de forma local\n",
    "from langchain_community.llms import Ollama \n",
    "from langchain_community.embeddings import OllamaEmbeddings # crear embeddings\n",
    "from langchain_core.output_parsers import StrOutputParser # texto la respuesta\n",
    "from langchain_core.runnables import RunnablePassthrough # pasar la respuesta"
   ]
  },
  {
   "cell_type": "code",
   "execution_count": 5,
   "id": "d3e704f6",
   "metadata": {},
   "outputs": [],
   "source": [
    "import ollama"
   ]
  },
  {
   "cell_type": "code",
   "execution_count": 1,
   "id": "3cae33ce",
   "metadata": {},
   "outputs": [
    {
     "name": "stdout",
     "output_type": "stream",
     "text": [
      "NAME                  ID              SIZE      MODIFIED       \n",
      "gemma3:12b            f4031aab637d    8.1 GB    20 minutes ago    \n",
      "llama3.2:latest       a80c4f17acd5    2.0 GB    2 hours ago       \n",
      "gemma3:270m           e7d36fb2c3b3    291 MB    6 hours ago       \n",
      "deepseek-r1:14b       c333b7232bdb    9.0 GB    3 days ago        \n",
      "deepseek-r1:latest    6995872bfe4c    5.2 GB    3 days ago        \n",
      "llama3.1:latest       46e0c10c039e    4.9 GB    3 days ago        \n",
      "gemma3:latest         a2af6cc3eb7f    3.3 GB    3 days ago        \n"
     ]
    }
   ],
   "source": [
    "!ollama list"
   ]
  },
  {
   "cell_type": "code",
   "execution_count": null,
   "id": "49904a63",
   "metadata": {},
   "outputs": [
    {
     "name": "stderr",
     "output_type": "stream",
     "text": [
      "C:\\Users\\saraujo\\AppData\\Local\\Temp\\ipykernel_9388\\3639680792.py:1: LangChainDeprecationWarning: The class `Ollama` was deprecated in LangChain 0.3.1 and will be removed in 1.0.0. An updated version of the class exists in the :class:`~langchain-ollama package and should be used instead. To use it run `pip install -U :class:`~langchain-ollama` and import as `from :class:`~langchain_ollama import OllamaLLM``.\n",
      "  llm = Ollama(model=\"llama3.2\", temperature=0.1)\n"
     ]
    }
   ],
   "source": [
    "# llm = Ollama(model=\"llama3.2\", temperature=0.1)\n",
    "llm = Ollama(model=\"llama3.1\", temperature=0)\n",
    "# llm = Ollama(model=\"deepseek-r1:1.5b\", temperature=0.1)\n",
    "# llm = Ollama(model=\"deepseek-r1:14b\", temperature=0.1) # 8GB\n",
    "# llm = Ollama(model=\"deepseek-r1\", temperature=0.1) # 6GB\n",
    "# llm = Ollama(model=\"gemma3:270m\", temperature=0.1)"
   ]
  },
  {
   "cell_type": "code",
   "execution_count": 8,
   "id": "f5c04207",
   "metadata": {},
   "outputs": [],
   "source": [
    "respuesta = llm.invoke(\"necesito un codigo de python para calcular la suma de dos numeros\")"
   ]
  },
  {
   "cell_type": "code",
   "execution_count": 9,
   "id": "5923d415",
   "metadata": {},
   "outputs": [
    {
     "data": {
      "text/plain": [
       "'¡Claro! Aquí tienes un ejemplo de código en Python que calcula la suma de dos números:\\n\\n```python\\n# Definir una función para sumar dos números\\ndef sumar_numeros(num1, num2):\\n    # Calcular la suma de los dos números\\n    resultado = num1 + num2\\n    \\n    # Devolver el resultado\\n    return resultado\\n\\n# Pedir al usuario que ingrese dos números\\nnum1 = float(input(\"Ingrese el primer número: \"))\\nnum2 = float(input(\"Ingrese el segundo número: \"))\\n\\n# Llamar a la función sumar_numeros y almacenar el resultado en una variable\\nresultado = sumar_numeros(num1, num2)\\n\\n# Imprimir el resultado\\nprint(f\"La suma de {num1} y {num2} es: {resultado}\")\\n```\\n\\nEste código define una función llamada `sumar_numeros` que toma dos números como argumentos y devuelve su suma. Luego, pide al usuario que ingrese dos números, llama a la función con esos números y imprime el resultado.\\n\\nPuedes ejecutar este código en tu entorno de Python favorito para probarlo.'"
      ]
     },
     "execution_count": 9,
     "metadata": {},
     "output_type": "execute_result"
    }
   ],
   "source": [
    "respuesta"
   ]
  },
  {
   "cell_type": "code",
   "execution_count": 12,
   "id": "5b49d021",
   "metadata": {},
   "outputs": [],
   "source": [
    "objetivo = \"Aumentar la satisfacción del cliente en un 15% para el tercer trimestre de 2025, implementando un nuevo sistema de soporte en línea y capacitando al equipo de atención al cliente.\""
   ]
  },
  {
   "cell_type": "code",
   "execution_count": null,
   "id": "73f01dbf",
   "metadata": {},
   "outputs": [],
   "source": [
    "prompt = 'Actúa como evaluador de objetivos académicos de tesis de pregrado. Recibirás el texto de un objetivo y debes determinar si está correctamente formulado y redactado. Tu salida debe limitarse únicamente a un JSON válido, sin texto adicional fuera de él.\\\n",
    "Evalúa lo siguiente:\\\n",
    "1) El objetivo debe comenzar con un único verbo en infinitivo de la taxonomía de Bloom (ejemplo: “Diseñar”, “Implementar”, “Analizar”).;\\\n",
    "2) Puede haber varios verbos pero solo debe estar en infinitivo el principal o el del inicio. Otros verbos en la redacción son permitidos siempre que complementen el objetivo.;\\\n",
    "3) El objetivo debe responder de forma explícita a estas tres preguntas: ¿Qué? la acción principal del proyecto. ¿Cómo? el método, estrategia o acciones para lograrlo. ¿Para qué? el propósito o impacto esperado.;\\\n",
    "4) Toma en cuenta el contexto de la carrera (como diseño, producción u otras áreas afines). En estos casos, un objetivo puede no responder explícitamente a las tres preguntas, pero no necesariamente está mal. En tal situación, debes evaluar si el nivel de claridad es suficiente y aclararlo en el campo “detalle”.;\\\n",
    "5) Si alguno de los puntos falla, marca “aprobado” como “NO” y explica en el campo “detalle” qué falta o qué está incorrecto.;\\\n",
    "6) En el campo \"sugerencias\" detalla que puede mejorar del texto del objetivo, ya sea que fue aprobado o no.\\\n",
    "\\\n",
    "Cuando el objetivo no cumpla, debes también devolver 3 ejemplos de objetivos alternativos bien redactados (opciones de mejora).\\\n",
    "Si el objetivo cumple en todo, deja “opciones de sugerencias” como lista vacía.\\\n",
    "\\\n",
    "En el campo “verbos”, incluye cualquier verbo principal en infinitivo usado de manera incorrecta o mal escrito; si no hay problemas, devuelve una lista vacía. No inventes datos que no estén en el objetivo.\\\n",
    "\\\n",
    "El formato de salida debe ser exactamente este:\\\n",
    "\\\n",
    "{\\\n",
    "\"aprobado\": \"SI\" | \"NO\",\\\n",
    "\"verbos\": [\"...\"],\\\n",
    "\"detalle\": \"\",\\\n",
    "\"sugerencias\": \"\",\\\n",
    "\"opciones de sugerencias\": [\"\", \"\", \"\"]\\\n",
    "}\\\n",
    "\\\n",
    "Objetivo a evaluar: \"\"\"' + objetivo + '\"\"\"\\\n",
    "\\\n",
    "Notas finales: No incluyas nada fuera del JSON. Si el objetivo es ambiguo o corresponde a un área en la que no siempre se expresan las tres preguntas, especifícalo en el campo “detalle” y sugiere en “sugerencias” cómo podría mejorar en claridad sin perder coherencia con la disciplina.'"
   ]
  },
  {
   "cell_type": "code",
   "execution_count": 14,
   "id": "e1a8e5b3",
   "metadata": {},
   "outputs": [],
   "source": [
    "respuesta = llm.invoke(prompt)"
   ]
  },
  {
   "cell_type": "code",
   "execution_count": 15,
   "id": "f8b1dd14",
   "metadata": {},
   "outputs": [
    {
     "data": {
      "text/plain": [
       "'{\"aprobado\": \"NO\", \"verbos\": [\"implementar\", \"capacitar\"], \"detalle\": \"QUE NO COMienza con un verbo en infinitivo de la taxonomía de Bloom, y que no responde claramente a las preguntas de qué y para qué.\", \"sugerencias\": \"Reformular el objetivo para centrarse en una acción específica y clara\", \"opciones de sugerencias\": [\"Aumentar la satisfacción del cliente en un 15% mediante el implementación de un nuevo sistema de soporte en línea y capacitación del equipo de atención al cliente.\", \"Mejorar la experiencia del cliente a través de la implementación de un nuevo sistema de soporte en línea y capacitación del equipo de atención al cliente.\", \"Incrementar la satisfacción del cliente en un 15% mediante el uso de un nuevo sistema de soporte en línea y programas de capacitación para el equipo de atención al cliente.\"]'"
      ]
     },
     "execution_count": 15,
     "metadata": {},
     "output_type": "execute_result"
    }
   ],
   "source": [
    "respuesta"
   ]
  },
  {
   "cell_type": "code",
   "execution_count": null,
   "id": "dd15db1f",
   "metadata": {},
   "outputs": [],
   "source": [
    "# respuesta[respuesta.find(\"```json\"):]"
   ]
  },
  {
   "cell_type": "code",
   "execution_count": null,
   "id": "97e08597",
   "metadata": {},
   "outputs": [],
   "source": [
    "# respuesta[8:-4]"
   ]
  },
  {
   "cell_type": "code",
   "execution_count": null,
   "id": "f49d1098",
   "metadata": {},
   "outputs": [],
   "source": [
    "# # 1. Elimina el bloque de formato markdown y los saltos de línea innecesarios\n",
    "# json_str = respuesta[respuesta.find(\"```json\"):]\n",
    "# json_str = json_str.replace(\"```json\", \"\").replace(\"```\", \"\").strip()\n",
    "\n",
    "# # 2. Ahora conviértelo a un diccionario de Python\n",
    "# data = json.loads(json_str)"
   ]
  },
  {
   "cell_type": "code",
   "execution_count": null,
   "id": "99dab754",
   "metadata": {},
   "outputs": [],
   "source": [
    "data = json.loads(respuesta)"
   ]
  },
  {
   "cell_type": "code",
   "execution_count": null,
   "id": "c0644d2b",
   "metadata": {},
   "outputs": [
    {
     "data": {
      "text/plain": [
       "{'aprobado': 'SI',\n",
       " 'verbos': [],\n",
       " 'detalle': '',\n",
       " 'sugerencias': '',\n",
       " 'opciones de sugerencias': ['Aumentar la satisfacción del cliente en un 15% para el tercer trimestre de 2025, mediante la implementación de un nuevo sistema de soporte en línea y la capacitación al equipo de atención al cliente.',\n",
       "  'Mejorar la satisfacción del cliente en un 15% para el tercer trimestre de 2025, a través de la implementación de un nuevo sistema de soporte en línea y la capacitación al equipo de atención al cliente.',\n",
       "  'Incrementar la satisfacción del cliente en un 15% para el tercer trimestre de 2025, mediante la implementación de un nuevo sistema de soporte en línea y la capacitación al equipo de atención al cliente.']}"
      ]
     },
     "execution_count": 19,
     "metadata": {},
     "output_type": "execute_result"
    }
   ],
   "source": [
    "data"
   ]
  },
  {
   "cell_type": "markdown",
   "id": "a623d33c",
   "metadata": {},
   "source": [
    "### Cargar PDF"
   ]
  },
  {
   "cell_type": "code",
   "execution_count": 22,
   "id": "31fd172d",
   "metadata": {},
   "outputs": [],
   "source": [
    "loader = PyPDFLoader(\"data/1742368983472.pdf\")\n",
    "paginas = loader.load()"
   ]
  },
  {
   "cell_type": "code",
   "execution_count": 23,
   "id": "b82b0163",
   "metadata": {},
   "outputs": [
    {
     "data": {
      "text/plain": [
       "9"
      ]
     },
     "execution_count": 23,
     "metadata": {},
     "output_type": "execute_result"
    }
   ],
   "source": [
    "len(paginas)"
   ]
  },
  {
   "cell_type": "code",
   "execution_count": 24,
   "id": "777d7983",
   "metadata": {},
   "outputs": [
    {
     "data": {
      "text/plain": [
       "'Prompt para Aprender Inglés\\nObjetivo\\nMejorar mis habilidades en inglés a través de una\\ncombinación de ejercicios de gramática, conversación,\\ncomprensión auditiva y vocabulario. La IA actuará como mi\\nprofesor, personalizando la enseñanza según mi nivel y\\nestilo de aprendizaje.\\nPractica tu speaking con\\nChatGPT\\nObjetivo\\nM A R L E N E SANCHEZ\\nV a n e s s a'"
      ]
     },
     "execution_count": 24,
     "metadata": {},
     "output_type": "execute_result"
    }
   ],
   "source": [
    "paginas[1].page_content"
   ]
  },
  {
   "cell_type": "code",
   "execution_count": 25,
   "id": "44b9c174",
   "metadata": {},
   "outputs": [],
   "source": [
    "text_splitter = CharacterTextSplitter(separator=\"\\n\", chunk_size=650, chunk_overlap=80, length_function=len)"
   ]
  },
  {
   "cell_type": "code",
   "execution_count": 26,
   "id": "ecedf31a",
   "metadata": {},
   "outputs": [],
   "source": [
    "docs = text_splitter.split_documents(paginas)"
   ]
  },
  {
   "cell_type": "code",
   "execution_count": 27,
   "id": "203030e2",
   "metadata": {},
   "outputs": [
    {
     "data": {
      "text/plain": [
       "12"
      ]
     },
     "execution_count": 27,
     "metadata": {},
     "output_type": "execute_result"
    }
   ],
   "source": [
    "len(docs)"
   ]
  },
  {
   "cell_type": "code",
   "execution_count": 28,
   "id": "e8b3363b",
   "metadata": {},
   "outputs": [
    {
     "data": {
      "text/plain": [
       "9"
      ]
     },
     "execution_count": 28,
     "metadata": {},
     "output_type": "execute_result"
    }
   ],
   "source": [
    "len(paginas)"
   ]
  },
  {
   "cell_type": "code",
   "execution_count": 31,
   "id": "d2b32d1a",
   "metadata": {},
   "outputs": [],
   "source": [
    "embedings = OllamaEmbeddings(model=\"llama3.1\")\n",
    "vectorstore = Chroma.from_documents(docs, embedings, collection_name=\"objectives_review\")"
   ]
  },
  {
   "cell_type": "code",
   "execution_count": 32,
   "id": "f8341f62",
   "metadata": {},
   "outputs": [],
   "source": [
    "def ollama_llm(question, context):\n",
    "    formatted_prompt = f\"Pregunta: {question}\\n \\nContexto(responde solo sobre el contenido del contexto entregado): {context}\\n\"\n",
    "    response = ollama.chat(model=\"llama3.1\",\n",
    "                           messages=[{\"role\": \"user\", \"content\": formatted_prompt}],\n",
    "                           options={\"temperature\": 0, \"max_tokens\": 1000})\n",
    "    return response['message']['content']\n"
   ]
  },
  {
   "cell_type": "code",
   "execution_count": 33,
   "id": "78aeba87",
   "metadata": {},
   "outputs": [],
   "source": [
    "retriever = vectorstore.as_retriever()\n",
    "def combine_documents(docs):\n",
    "    return \"\\n\\n\".join([doc.page_content for doc in docs])"
   ]
  },
  {
   "cell_type": "code",
   "execution_count": 34,
   "id": "5731800f",
   "metadata": {},
   "outputs": [],
   "source": [
    "def rag_chain(question):\n",
    "    retrieved_docs = retriever.invoke(question) # extrae los vectores mas parecidos\n",
    "    formatted_context = combine_documents(retrieved_docs) # combina los documentos de los que mas se parece el vector\n",
    "    return ollama_llm(question, formatted_context)"
   ]
  },
  {
   "cell_type": "code",
   "execution_count": 35,
   "id": "43609f4c",
   "metadata": {},
   "outputs": [
    {
     "data": {
      "text/plain": [
       "'El objetivo del Prompt para Aprender Inglés es ayudar al usuario a mejorar su nivel de inglés, ofreciendo una variedad de opciones de estudio y actividades interactivas. El sistema se enfoca en adaptarse a las necesidades individuales del usuario, permitiéndole elegir el estilo de aprendizaje que mejor se adapte a sus preferencias (visual, auditivo o kinestésico) y seleccionar qué aspectos del idioma quiere estudiar (gramática, vocabulario, práctica de la pronunciación o escucha). El sistema también incluye una función de revisión para asegurarse de que el usuario comprenda los conceptos antes de avanzar.'"
      ]
     },
     "execution_count": 35,
     "metadata": {},
     "output_type": "execute_result"
    }
   ],
   "source": [
    "result = rag_chain(\"¿Segun el texto cual es el objetivo de Prompt para Aprender Inglés?\")\n",
    "result"
   ]
  },
  {
   "cell_type": "code",
   "execution_count": 36,
   "id": "e4934566",
   "metadata": {},
   "outputs": [
    {
     "data": {
      "text/plain": [
       "'Según el texto, la IA actúa como un asistente de aprendizaje en línea que guía al usuario a través de una sesión de estudio del idioma inglés. La IA presenta preguntas y opciones para determinar el nivel de inglés del usuario, su estilo de aprendizaje preferido y qué actividades quiere realizar durante la sesión. Luego, ofrece explicaciones y ejercicios personalizados según las elecciones del usuario y su nivel de inglés.'"
      ]
     },
     "execution_count": 36,
     "metadata": {},
     "output_type": "execute_result"
    }
   ],
   "source": [
    "result = rag_chain(\"¿Segun el texto como actua la IA?\")\n",
    "result"
   ]
  }
 ],
 "metadata": {
  "kernelspec": {
   "display_name": "Python 3",
   "language": "python",
   "name": "python3"
  },
  "language_info": {
   "codemirror_mode": {
    "name": "ipython",
    "version": 3
   },
   "file_extension": ".py",
   "mimetype": "text/x-python",
   "name": "python",
   "nbconvert_exporter": "python",
   "pygments_lexer": "ipython3",
   "version": "3.12.10"
  }
 },
 "nbformat": 4,
 "nbformat_minor": 5
}
