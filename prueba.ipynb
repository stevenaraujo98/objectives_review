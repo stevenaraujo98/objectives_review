{
 "cells": [
  {
   "cell_type": "code",
   "execution_count": 1,
   "id": "debdd196",
   "metadata": {},
   "outputs": [],
   "source": [
    "# !pip install ollama -q\n",
    "# !pip install pypdf -q"
   ]
  },
  {
   "cell_type": "code",
   "execution_count": 2,
   "id": "9f580571",
   "metadata": {},
   "outputs": [],
   "source": [
    "# !pip install langchain -q\n",
    "# !pip install langchain-community -q\n",
    "# !pip install chromadb -q"
   ]
  },
  {
   "cell_type": "code",
   "execution_count": 3,
   "id": "78f06f7c",
   "metadata": {},
   "outputs": [],
   "source": [
    "import json"
   ]
  },
  {
   "cell_type": "code",
   "execution_count": 4,
   "id": "c7fb76b5",
   "metadata": {},
   "outputs": [],
   "source": [
    "from langchain.text_splitter import CharacterTextSplitter # dividir los textos\n",
    "from langchain.document_loaders import PyPDFLoader # cargar el pdf\n",
    "from langchain_community.vectorstores import Chroma # almacenar vectores de forma local\n",
    "from langchain_community.embeddings import OllamaEmbeddings # crear embeddings\n",
    "from langchain_core.output_parsers import StrOutputParser # texto la respuesta\n",
    "from langchain_core.runnables import RunnablePassthrough # pasar la respuesta\n",
    "import ollama"
   ]
  },
  {
   "cell_type": "code",
   "execution_count": 5,
   "id": "d3e704f6",
   "metadata": {},
   "outputs": [],
   "source": [
    "from langchain_community.llms import Ollama"
   ]
  },
  {
   "cell_type": "code",
   "execution_count": 6,
   "id": "3cae33ce",
   "metadata": {},
   "outputs": [
    {
     "name": "stdout",
     "output_type": "stream",
     "text": [
      "NAME                  ID              SIZE      MODIFIED          \n",
      "deepseek-r1:1.5b      e0979632db5a    1.1 GB    About an hour ago    \n",
      "deepseek-r1:14b       c333b7232bdb    9.0 GB    5 hours ago          \n",
      "llama3.1:latest       46e0c10c039e    4.9 GB    5 hours ago          \n",
      "gemma3:12b            f4031aab637d    8.1 GB    5 hours ago          \n",
      "gemma3:latest         a2af6cc3eb7f    3.3 GB    5 hours ago          \n",
      "llama3.2:latest       a80c4f17acd5    2.0 GB    5 hours ago          \n",
      "deepseek-r1:latest    6995872bfe4c    5.2 GB    5 hours ago          \n"
     ]
    }
   ],
   "source": [
    "!ollama list"
   ]
  },
  {
   "cell_type": "code",
   "execution_count": 21,
   "id": "49904a63",
   "metadata": {},
   "outputs": [],
   "source": [
    "# llm = Ollama(model=\"llama3.2\", temperature=0.1)\n",
    "llm = Ollama(model=\"llama3.1\", temperature=0)\n",
    "# llm = Ollama(model=\"deepseek-r1:1.5b\", temperature=0.1)\n",
    "# llm = Ollama(model=\"deepseek-r1:14b\", temperature=0.1) # 8GB\n",
    "# llm = Ollama(model=\"deepseek-r1\", temperature=0.1) # 6GB"
   ]
  },
  {
   "cell_type": "code",
   "execution_count": 22,
   "id": "f5c04207",
   "metadata": {},
   "outputs": [],
   "source": [
    "respuesta = llm.invoke(\"necesito un codigo de python para calcular la suma de dos numeros\")"
   ]
  },
  {
   "cell_type": "code",
   "execution_count": 23,
   "id": "5923d415",
   "metadata": {},
   "outputs": [
    {
     "data": {
      "text/plain": [
       "'Aquí te dejo un ejemplo sencillo de cómo calcular la suma de dos números en Python:\\n```python\\n# Definimos las variables con los valores que queremos sumar\\nnum1 = 5\\nnum2 = 3\\n\\n# Calculamos la suma\\nsuma = num1 + num2\\n\\n# Imprimimos el resultado\\nprint(\"La suma es:\", suma)\\n```\\nEn este ejemplo, estamos definiendo dos variables `num1` y `num2` con los valores que queremos sumar. Luego, calculamos la suma utilizando el operador `+`. Finalmente, imprimimos el resultado en la consola.\\n\\nSi deseas hacerlo de manera más flexible, puedes pedir al usuario que ingrese los números a sumar:\\n```python\\n# Pido al usuario que ingrese los números a sumar\\nnum1 = float(input(\"Ingrese el primer número: \"))\\nnum2 = float(input(\"Ingrese el segundo número: \"))\\n\\n# Calculo la suma\\nsuma = num1 + num2\\n\\n# Imprimo el resultado\\nprint(\"La suma es:\", suma)\\n```\\nEn este caso, estamos utilizando la función `input()` para pedir al usuario que ingrese los números a sumar. La función `float()` se utiliza para convertir las entradas de texto en números flotantes (con decimales).'"
      ]
     },
     "execution_count": 23,
     "metadata": {},
     "output_type": "execute_result"
    }
   ],
   "source": [
    "respuesta"
   ]
  },
  {
   "cell_type": "code",
   "execution_count": 24,
   "id": "e1a8e5b3",
   "metadata": {},
   "outputs": [],
   "source": [
    "respuesta = llm.invoke('Actúa como evaluador de objetivos. Recibirás el texto de un objetivo y debes calificar si está bien formulado según criterios SMART y de redacción. Limita tu salida exclusivamente a un JSON válido, sin texto adicional. Evalúa: 1) us o de verbos en infinitivo al inicio (por ejemplo: “Aumentar”, “Reducir”, “Implementar”); 2) si responde a qué (qué se hará), para qué (propósito o impacto) y cómo (método o acciones); 3) SMART: medible (métricas o indicadores claros con números, porcentajes o umbrales), alcanzable (factible con recursos/plazo razonable), relevante (alineado al propósito y aporta valor) y con tiempo definido (fecha, plazo o ventana temporal concreta). Si el objetivo falla en cualquiera de estos puntos, marca “aprobado” como “NO” y explica qué falta o está mal, pero no seas muy estricto de calificar son objetivos de proyectos academicos de tesis de pregrado. Devuelve 3 sugerencias de posibles objetivos escritos correctamente; si todo está correcto, deja la lista de “opciones de sugerencias” vacía. En “verbos”, lista los verbos mal escritos o que no estén en infinitivo; si no hay problemas, devuelve una lista vacía. No inventes datos que no estén en el objetivo. Formato de salida obligatorio (JSON exacto): {\"aprobado\": \"SI\" | \"NO\", \"verbos\": [\"...\" ], \"detalle\": \"QUE ESTA MAL, QUE LE HACE FALTA EN CUMPLIMIENTO\", \"sugerencias\": \"QUE PUEDE MEJORAR SEMANTICAMENTE PARA SER APROBADO\", \"opciones de sugerencias\": [\"\", \"\", \"\"]}. Objetivo a evaluar: \"\"\"Aumentar la satisfacción del cliente en un 15% para el tercer trimestre de 2025, implementando un nuevo sistema de soporte en línea y capacitando al equipo de atención al cliente.\"\"\". Notas: No incluyas nada fuera del JSON. Si el objetivo es ambiguo, explica brevemente en “detalle” qué ambigüedades impiden la evaluación y sugiere cómo precisarlo en “sugerencias”.')"
   ]
  },
  {
   "cell_type": "code",
   "execution_count": 25,
   "id": "f8b1dd14",
   "metadata": {},
   "outputs": [
    {
     "data": {
      "text/plain": [
       "'{\"aprobado\": \"SI\", \"verbos\": [], \"detalle\": \"\", \"sugerencias\": \"\", \"opciones de sugerencias\": [\"Aumentar la satisfacción del cliente en un 15% para el tercer trimestre de 2025, mediante la implementación de un nuevo sistema de soporte en línea y la capacitación al equipo de atención al cliente.\", \"Mejorar la satisfacción del cliente en un 15% a través de la implementación de un nuevo sistema de soporte en línea y la capacitación al equipo de atención al cliente para el tercer trimestre de 2025.\", \"Incrementar la satisfacción del cliente en un 15% mediante la implementación de un nuevo sistema de soporte en línea y la capacitación al equipo de atención al cliente para el tercer trimestre de 2025.\"]}'"
      ]
     },
     "execution_count": 25,
     "metadata": {},
     "output_type": "execute_result"
    }
   ],
   "source": [
    "respuesta"
   ]
  },
  {
   "cell_type": "code",
   "execution_count": null,
   "id": "dd15db1f",
   "metadata": {},
   "outputs": [
    {
     "data": {
      "text/plain": [
       "'}'"
      ]
     },
     "execution_count": 12,
     "metadata": {},
     "output_type": "execute_result"
    }
   ],
   "source": [
    "# respuesta[respuesta.find(\"```json\"):]"
   ]
  },
  {
   "cell_type": "code",
   "execution_count": null,
   "id": "97e08597",
   "metadata": {},
   "outputs": [
    {
     "data": {
      "text/plain": [
       "'}'"
      ]
     },
     "execution_count": 15,
     "metadata": {},
     "output_type": "execute_result"
    }
   ],
   "source": [
    "# respuesta[respuesta.find(\"```json\"):]"
   ]
  },
  {
   "cell_type": "code",
   "execution_count": 16,
   "id": "f49d1098",
   "metadata": {},
   "outputs": [],
   "source": [
    "# # 1. Elimina el bloque de formato markdown y los saltos de línea innecesarios\n",
    "# json_str = respuesta[respuesta.find(\"```json\"):]\n",
    "# json_str = json_str.replace(\"```json\", \"\").replace(\"```\", \"\").strip()\n",
    "\n",
    "# # 2. Ahora conviértelo a un diccionario de Python\n",
    "# data = json.loads(json_str)"
   ]
  },
  {
   "cell_type": "code",
   "execution_count": 17,
   "id": "99dab754",
   "metadata": {},
   "outputs": [],
   "source": [
    "data = json.loads(respuesta)"
   ]
  },
  {
   "cell_type": "code",
   "execution_count": 18,
   "id": "c0644d2b",
   "metadata": {},
   "outputs": [
    {
     "data": {
      "text/plain": [
       "{'aprobado': 'SI',\n",
       " 'verbos': [],\n",
       " 'detalle': '',\n",
       " 'sugerencias': '',\n",
       " 'opciones de sugerencias': ['Aumentar la satisfacción del cliente en un 15% para el tercer trimestre de 2025, implementando un nuevo sistema de soporte en línea y capacitando al equipo de atención al cliente.',\n",
       "  'Mejorar la satisfacción del cliente mediante la implementación de un nuevo sistema de soporte en línea y la capacitación del equipo de atención al cliente.',\n",
       "  'Incrementar la satisfacción del cliente en un 15% para el tercer trimestre de 2025, a través de la implementación de un nuevo sistema de soporte en línea y la capacitación del equipo de atención al cliente.']}"
      ]
     },
     "execution_count": 18,
     "metadata": {},
     "output_type": "execute_result"
    }
   ],
   "source": [
    "data"
   ]
  },
  {
   "cell_type": "markdown",
   "id": "a623d33c",
   "metadata": {},
   "source": [
    "### Cargar PDF"
   ]
  },
  {
   "cell_type": "code",
   "execution_count": 8,
   "id": "31fd172d",
   "metadata": {},
   "outputs": [],
   "source": [
    "loader = PyPDFLoader(\"data/1742368983472.pdf\")\n",
    "paginas = loader.load()"
   ]
  },
  {
   "cell_type": "code",
   "execution_count": 9,
   "id": "b82b0163",
   "metadata": {},
   "outputs": [
    {
     "data": {
      "text/plain": [
       "9"
      ]
     },
     "execution_count": 9,
     "metadata": {},
     "output_type": "execute_result"
    }
   ],
   "source": [
    "len(paginas)"
   ]
  },
  {
   "cell_type": "code",
   "execution_count": 10,
   "id": "777d7983",
   "metadata": {},
   "outputs": [
    {
     "data": {
      "text/plain": [
       "'Prompt para Aprender Inglés\\nObjetivo\\nMejorar mis habilidades en inglés a través de una\\ncombinación de ejercicios de gramática, conversación,\\ncomprensión auditiva y vocabulario. La IA actuará como mi\\nprofesor, personalizando la enseñanza según mi nivel y\\nestilo de aprendizaje.\\nPractica tu speaking con\\nChatGPT\\nObjetivo\\nM A R L E N E SANCHEZ\\nV a n e s s a'"
      ]
     },
     "execution_count": 10,
     "metadata": {},
     "output_type": "execute_result"
    }
   ],
   "source": [
    "paginas[1].page_content"
   ]
  },
  {
   "cell_type": "code",
   "execution_count": 11,
   "id": "44b9c174",
   "metadata": {},
   "outputs": [],
   "source": [
    "text_splitter = CharacterTextSplitter(separator=\"\\n\", chunk_size=650, chunk_overlap=80, length_function=len)"
   ]
  },
  {
   "cell_type": "code",
   "execution_count": 12,
   "id": "ecedf31a",
   "metadata": {},
   "outputs": [],
   "source": [
    "docs = text_splitter.split_documents(paginas)"
   ]
  },
  {
   "cell_type": "code",
   "execution_count": 13,
   "id": "203030e2",
   "metadata": {},
   "outputs": [
    {
     "data": {
      "text/plain": [
       "12"
      ]
     },
     "execution_count": 13,
     "metadata": {},
     "output_type": "execute_result"
    }
   ],
   "source": [
    "len(docs)"
   ]
  },
  {
   "cell_type": "code",
   "execution_count": 14,
   "id": "e8b3363b",
   "metadata": {},
   "outputs": [
    {
     "data": {
      "text/plain": [
       "9"
      ]
     },
     "execution_count": 14,
     "metadata": {},
     "output_type": "execute_result"
    }
   ],
   "source": [
    "len(paginas)"
   ]
  },
  {
   "cell_type": "code",
   "execution_count": 15,
   "id": "d2b32d1a",
   "metadata": {},
   "outputs": [
    {
     "name": "stderr",
     "output_type": "stream",
     "text": [
      "C:\\Users\\steve\\AppData\\Local\\Temp\\ipykernel_17260\\13447781.py:1: LangChainDeprecationWarning: The class `OllamaEmbeddings` was deprecated in LangChain 0.3.1 and will be removed in 1.0.0. An updated version of the class exists in the :class:`~langchain-ollama package and should be used instead. To use it run `pip install -U :class:`~langchain-ollama` and import as `from :class:`~langchain_ollama import OllamaEmbeddings``.\n",
      "  embedings = OllamaEmbeddings(model=\"llama3.1\")\n"
     ]
    }
   ],
   "source": [
    "embedings = OllamaEmbeddings(model=\"llama3.1\")\n",
    "vectorstore = Chroma.from_documents(docs, embedings, collection_name=\"objectives_review\")"
   ]
  },
  {
   "cell_type": "code",
   "execution_count": 16,
   "id": "f8341f62",
   "metadata": {},
   "outputs": [],
   "source": [
    "def ollama_llm(question, context):\n",
    "    formatted_prompt = f\"Pregunta: {question}\\n \\nContexto(responde solo sobre el contenido del contexto entregado): {context}\\n\"\n",
    "    response = ollama.chat(model=\"llama3.1\",\n",
    "                           messages=[{\"role\": \"user\", \"content\": formatted_prompt}],\n",
    "                           options={\"temperature\": 0, \"max_tokens\": 1000})\n",
    "    return response['message']['content']\n"
   ]
  },
  {
   "cell_type": "code",
   "execution_count": 17,
   "id": "78aeba87",
   "metadata": {},
   "outputs": [],
   "source": [
    "retriever = vectorstore.as_retriever()\n",
    "def combine_documents(docs):\n",
    "    return \"\\n\\n\".join([doc.page_content for doc in docs])"
   ]
  },
  {
   "cell_type": "code",
   "execution_count": null,
   "id": "5731800f",
   "metadata": {},
   "outputs": [],
   "source": [
    "def rag_chain(question):\n",
    "    retrieved_docs = retriever.invoke(question) # extrae los vectores mas parecidos\n",
    "    formatted_context = combine_documents(retrieved_docs) # combina los documentos de los que mas se parece el vector\n",
    "    return ollama_llm(question, formatted_context)"
   ]
  },
  {
   "cell_type": "code",
   "execution_count": 19,
   "id": "43609f4c",
   "metadata": {},
   "outputs": [
    {
     "data": {
      "text/plain": [
       "'El objetivo del Prompt para Aprender Inglés es ayudar al usuario a mejorar su nivel de inglés, ofreciendo diferentes opciones de estudio y actividades interactivas para practicar la gramática, el habla, el escucha y el vocabulario. El sistema se adapta a las necesidades y preferencias del usuario, permitiéndole elegir su estilo de aprendizaje y nivel de dificultad.'"
      ]
     },
     "execution_count": 19,
     "metadata": {},
     "output_type": "execute_result"
    }
   ],
   "source": [
    "result = rag_chain(\"¿Segun el texto cual es el objetivo de Prompt para Aprender Inglés?\")\n",
    "result"
   ]
  },
  {
   "cell_type": "code",
   "execution_count": 20,
   "id": "e4934566",
   "metadata": {},
   "outputs": [
    {
     "data": {
      "text/plain": [
       "'Según el texto, la IA actúa como un asistente de aprendizaje de inglés que guía al usuario a través de una sesión de estudio. La IA presenta opciones y preguntas para determinar el nivel de inglés del usuario, su estilo de aprendizaje preferido y qué actividades quiere realizar durante la sesión. Luego, ofrece explicaciones y ejercicios personalizados según las opciones elegidas por el usuario.'"
      ]
     },
     "execution_count": 20,
     "metadata": {},
     "output_type": "execute_result"
    }
   ],
   "source": [
    "result = rag_chain(\"¿Segun el texto como actua la IA?\")\n",
    "result"
   ]
  }
 ],
 "metadata": {
  "kernelspec": {
   "display_name": "base",
   "language": "python",
   "name": "python3"
  },
  "language_info": {
   "codemirror_mode": {
    "name": "ipython",
    "version": 3
   },
   "file_extension": ".py",
   "mimetype": "text/x-python",
   "name": "python",
   "nbconvert_exporter": "python",
   "pygments_lexer": "ipython3",
   "version": "3.12.7"
  }
 },
 "nbformat": 4,
 "nbformat_minor": 5
}
