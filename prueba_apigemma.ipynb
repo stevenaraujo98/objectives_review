{
 "cells": [
  {
   "cell_type": "code",
   "execution_count": 1,
   "id": "b3d50147",
   "metadata": {},
   "outputs": [],
   "source": [
    "from dotenv import load_dotenv\n",
    "import os\n",
    "import requests\n",
    "import json"
   ]
  },
  {
   "cell_type": "code",
   "execution_count": 2,
   "id": "8680b75d",
   "metadata": {},
   "outputs": [
    {
     "data": {
      "text/plain": [
       "True"
      ]
     },
     "execution_count": 2,
     "metadata": {},
     "output_type": "execute_result"
    }
   ],
   "source": [
    "load_dotenv()"
   ]
  },
  {
   "cell_type": "code",
   "execution_count": 3,
   "id": "a6161048",
   "metadata": {},
   "outputs": [],
   "source": [
    "GEMINI_API_KEY = os.getenv(\"GEMINI_API_KEY\")\n",
    "model = \"gemma-3-27b-it\""
   ]
  },
  {
   "cell_type": "markdown",
   "id": "4552a173",
   "metadata": {},
   "source": [
    "curl \"https://generativelanguage.googleapis.com/v1beta/models/gemini-2.0-flash:generateContent\"  \n",
    "  -H 'Content-Type: application/json'  \n",
    "  -H 'X-goog-api-key: GEMINI_API_KEY'  \n",
    "  -X POST  \n",
    "  -d '{\n",
    "    \"contents\": [\n",
    "      {\n",
    "        \"parts\": [\n",
    "          {\n",
    "            \"text\": \"Explain how AI works in a few words\"\n",
    "          }\n",
    "        ]\n",
    "      }\n",
    "    ]\n",
    "  }'"
   ]
  },
  {
   "cell_type": "code",
   "execution_count": 4,
   "id": "8dcc26c3",
   "metadata": {},
   "outputs": [],
   "source": [
    "url = \"https://generativelanguage.googleapis.com/v1beta/models/\" + model + \":generateContent\"\n",
    "headers = {\n",
    "    \"Content-Type\": \"application/json\",\n",
    "    \"X-goog-api-key\": GEMINI_API_KEY\n",
    "}\n",
    "data = {\n",
    "    \"contents\": [\n",
    "        {\n",
    "            \"parts\": [\n",
    "                {\n",
    "                    \"text\": \"Explain how AI works in a few words\"\n",
    "                }\n",
    "            ]\n",
    "        }\n",
    "    ]\n",
    "}"
   ]
  },
  {
   "cell_type": "code",
   "execution_count": 5,
   "id": "e18ab1ed",
   "metadata": {},
   "outputs": [
    {
     "data": {
      "text/plain": [
       "<Response [200]>"
      ]
     },
     "execution_count": 5,
     "metadata": {},
     "output_type": "execute_result"
    }
   ],
   "source": [
    "response = requests.post(url, headers=headers, json=data)\n",
    "response"
   ]
  },
  {
   "cell_type": "code",
   "execution_count": 6,
   "id": "5e30af84",
   "metadata": {},
   "outputs": [
    {
     "name": "stdout",
     "output_type": "stream",
     "text": [
      "{'candidates': [{'content': {'parts': [{'text': 'AI learns from data to make decisions or predictions. \\n\\n(Essentially, it finds patterns and uses them!)\\n\\n\\n\\n'}], 'role': 'model'}, 'finishReason': 'STOP', 'index': 0}], 'usageMetadata': {'promptTokenCount': 8, 'totalTokenCount': 8, 'promptTokensDetails': [{'modality': 'TEXT', 'tokenCount': 8}]}, 'modelVersion': 'gemma-3-27b-it', 'responseId': 'xM-saN6fFrH5qtsPppLc2Qo'}\n"
     ]
    }
   ],
   "source": [
    "print(response.json())"
   ]
  },
  {
   "cell_type": "code",
   "execution_count": 7,
   "id": "a95760ab",
   "metadata": {},
   "outputs": [],
   "source": [
    "objetivo = \"Aumentar la satisfacción del cliente en un 15% para el tercer trimestre de 2025, implementando un nuevo sistema de soporte en línea y capacitando al equipo de atención al cliente.\""
   ]
  },
  {
   "cell_type": "code",
   "execution_count": 8,
   "id": "7fdbbc5f",
   "metadata": {},
   "outputs": [],
   "source": [
    "prompt = ' \\\n",
    "    Actúa como evaluador de objetivos académicos de tesis de pregrado. Recibirás el texto de un objetivo y debes determinar si está correctamente formulado y redactado. Tu salida debe limitarse únicamente a un JSON válido, sin texto adicional fuera de él. Evalúa lo siguiente: \\\n",
    "        1) que el objetivo comience con un único verbo en infinitivo tomado de la taxonomía de Bloom (ejemplo: “Aumentar”, “Reducir”, “Implementar”); \\\n",
    "        2) que no exista más de un verbo en infinitivo; \\\n",
    "        3) que responda claramente a las preguntas: qué (acción principal), cómo (método o acciones) y para qué (propósito o impacto). \\\n",
    "    Si alguno de estos criterios falla, marca “aprobado” como “NO” y explica en el campo “detalle” qué falta o qué está incorrecto. Considera además que estos objetivos pertenecen a proyectos académicos de carreras como producción, diseño u otras áreas afines, y que en ese contexto no es necesario dar respuesta a las tres preguntas planteadas. \\\n",
    "    \\\n",
    "    Cuando el objetivo no cumpla, debes también generar 3 ejemplos alternativos de objetivos bien redactados, escritos en la forma adecuada. Si el objetivo cumple con todos los criterios, deja la lista de “opciones de sugerencias” vacía. \\\n",
    "    En el campo “verbos”, incluye cualquier verbo mal escrito o que no esté en infinitivo; si no hay problemas, devuélvelo como una lista vacía. No inventes datos que no estén en el objetivo. \\\n",
    "    El formato de salida debe ser exactamente este JSON: \\\n",
    "    {\"aprobado\": \"SI\" | \"NO\", \"verbos\": [\"...\"], \"detalle\": \"QUE ESTA MAL, QUE LE HACE FALTA EN CUMPLIMIENTO\", \"sugerencias\": \"QUE PUEDE MEJORAR SEMÁNTICAMENTE PARA SER APROBADO\", \"opciones de sugerencias\": [\"\", \"\", \"\"]} \\\n",
    "    \\\n",
    "    Objetivo a evaluar: \"\"\"' + objetivo + '\"\"\" \\\n",
    "    Notas finales: No incluyas nada fuera del JSON. Si el objetivo resulta ambiguo, explícitalo en el campo “detalle” y sugiere en “sugerencias” cómo reformularlo para mayor claridad. \\\n",
    "'"
   ]
  },
  {
   "cell_type": "code",
   "execution_count": 9,
   "id": "238e4af5",
   "metadata": {},
   "outputs": [
    {
     "data": {
      "text/plain": [
       "<Response [200]>"
      ]
     },
     "execution_count": 9,
     "metadata": {},
     "output_type": "execute_result"
    }
   ],
   "source": [
    "data = {\n",
    "    \"contents\": [\n",
    "        {\n",
    "            \"parts\": [\n",
    "                {\n",
    "                    \"text\": prompt\n",
    "                }\n",
    "            ]\n",
    "        }\n",
    "    ]\n",
    "}\n",
    "response = requests.post(url, headers=headers, json=data)\n",
    "response"
   ]
  },
  {
   "cell_type": "code",
   "execution_count": 10,
   "id": "dc6bc485",
   "metadata": {},
   "outputs": [
    {
     "data": {
      "text/plain": [
       "'{\\n  \"aprobado\": \"NO\",\\n  \"verbos\": [\"Aumentar\", \"Implementando\"],\\n  \"detalle\": \"El objetivo contiene dos verbos en infinitivo (\\\\\"Aumentar\\\\\" e \\\\\"Implementar\\\\\"). Además, aunque indica qué (aumentar la satisfacción), cómo (implementando un sistema y capacitando) y para qué (para el tercer trimestre de 2025), la presencia de dos verbos en infinitivo lo invalida.\",\\n  \"sugerencias\": \"Se debe enfocar el objetivo en una única acción principal. Se puede separar en dos objetivos distintos, uno para aumentar la satisfacción y otro para implementar el sistema de soporte.\",\\n  \"opciones de sugerencias\": [\\n    \"Implementar un nuevo sistema de soporte en línea y capacitar al equipo de atención al cliente para mejorar la eficiencia del servicio.\",\\n    \"Aumentar la satisfacción del cliente en un 15% para el tercer trimestre de 2025 mediante la mejora continua del servicio de atención.\",\\n    \"Evaluar la efectividad de un nuevo sistema de soporte en línea para identificar oportunidades de mejora en la satisfacción del cliente.\"\\n  ]\\n}'"
      ]
     },
     "execution_count": 10,
     "metadata": {},
     "output_type": "execute_result"
    }
   ],
   "source": [
    "response.json()[\"candidates\"][0][\"content\"][\"parts\"][0][\"text\"][8:-4]"
   ]
  },
  {
   "cell_type": "code",
   "execution_count": 11,
   "id": "8f114dee",
   "metadata": {},
   "outputs": [],
   "source": [
    "data = json.loads(response.json()[\"candidates\"][0][\"content\"][\"parts\"][0][\"text\"][8:-4])"
   ]
  },
  {
   "cell_type": "code",
   "execution_count": 12,
   "id": "9b15583e",
   "metadata": {},
   "outputs": [
    {
     "data": {
      "text/plain": [
       "{'aprobado': 'NO',\n",
       " 'verbos': ['Aumentar', 'Implementando'],\n",
       " 'detalle': 'El objetivo contiene dos verbos en infinitivo (\"Aumentar\" e \"Implementar\"). Además, aunque indica qué (aumentar la satisfacción), cómo (implementando un sistema y capacitando) y para qué (para el tercer trimestre de 2025), la presencia de dos verbos en infinitivo lo invalida.',\n",
       " 'sugerencias': 'Se debe enfocar el objetivo en una única acción principal. Se puede separar en dos objetivos distintos, uno para aumentar la satisfacción y otro para implementar el sistema de soporte.',\n",
       " 'opciones de sugerencias': ['Implementar un nuevo sistema de soporte en línea y capacitar al equipo de atención al cliente para mejorar la eficiencia del servicio.',\n",
       "  'Aumentar la satisfacción del cliente en un 15% para el tercer trimestre de 2025 mediante la mejora continua del servicio de atención.',\n",
       "  'Evaluar la efectividad de un nuevo sistema de soporte en línea para identificar oportunidades de mejora en la satisfacción del cliente.']}"
      ]
     },
     "execution_count": 12,
     "metadata": {},
     "output_type": "execute_result"
    }
   ],
   "source": [
    "data"
   ]
  },
  {
   "cell_type": "code",
   "execution_count": null,
   "id": "457abea2",
   "metadata": {},
   "outputs": [],
   "source": []
  }
 ],
 "metadata": {
  "kernelspec": {
   "display_name": "Python 3",
   "language": "python",
   "name": "python3"
  },
  "language_info": {
   "codemirror_mode": {
    "name": "ipython",
    "version": 3
   },
   "file_extension": ".py",
   "mimetype": "text/x-python",
   "name": "python",
   "nbconvert_exporter": "python",
   "pygments_lexer": "ipython3",
   "version": "3.12.10"
  }
 },
 "nbformat": 4,
 "nbformat_minor": 5
}
