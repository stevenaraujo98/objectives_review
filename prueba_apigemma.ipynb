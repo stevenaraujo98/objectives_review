{
 "cells": [
  {
   "cell_type": "code",
   "execution_count": 38,
   "id": "b3d50147",
   "metadata": {},
   "outputs": [],
   "source": [
    "from dotenv import load_dotenv\n",
    "import os\n",
    "import requests\n",
    "import json"
   ]
  },
  {
   "cell_type": "code",
   "execution_count": 39,
   "id": "8680b75d",
   "metadata": {},
   "outputs": [
    {
     "data": {
      "text/plain": [
       "True"
      ]
     },
     "execution_count": 39,
     "metadata": {},
     "output_type": "execute_result"
    }
   ],
   "source": [
    "load_dotenv()"
   ]
  },
  {
   "cell_type": "code",
   "execution_count": 40,
   "id": "a6161048",
   "metadata": {},
   "outputs": [],
   "source": [
    "GEMINI_API_KEY = os.getenv(\"GEMINI_API_KEY\")\n",
    "model = \"gemma-3-27b-it\""
   ]
  },
  {
   "cell_type": "markdown",
   "id": "4552a173",
   "metadata": {},
   "source": [
    "curl \"https://generativelanguage.googleapis.com/v1beta/models/gemini-2.0-flash:generateContent\"  \n",
    "  -H 'Content-Type: application/json'  \n",
    "  -H 'X-goog-api-key: GEMINI_API_KEY'  \n",
    "  -X POST  \n",
    "  -d '{\n",
    "    \"contents\": [\n",
    "      {\n",
    "        \"parts\": [\n",
    "          {\n",
    "            \"text\": \"Explain how AI works in a few words\"\n",
    "          }\n",
    "        ]\n",
    "      }\n",
    "    ]\n",
    "  }'"
   ]
  },
  {
   "cell_type": "code",
   "execution_count": 41,
   "id": "8dcc26c3",
   "metadata": {},
   "outputs": [],
   "source": [
    "url = \"https://generativelanguage.googleapis.com/v1beta/models/\" + model + \":generateContent\"\n",
    "headers = {\n",
    "    \"Content-Type\": \"application/json\",\n",
    "    \"X-goog-api-key\": GEMINI_API_KEY\n",
    "}\n",
    "data = {\n",
    "    \"contents\": [\n",
    "        {\n",
    "            \"parts\": [\n",
    "                {\n",
    "                    \"text\": \"Explain how AI works in a few words\"\n",
    "                }\n",
    "            ]\n",
    "        }\n",
    "    ]\n",
    "}"
   ]
  },
  {
   "cell_type": "code",
   "execution_count": 42,
   "id": "e18ab1ed",
   "metadata": {},
   "outputs": [
    {
     "data": {
      "text/plain": [
       "<Response [200]>"
      ]
     },
     "execution_count": 42,
     "metadata": {},
     "output_type": "execute_result"
    }
   ],
   "source": [
    "response = requests.post(url, headers=headers, json=data)\n",
    "response"
   ]
  },
  {
   "cell_type": "code",
   "execution_count": 43,
   "id": "5e30af84",
   "metadata": {},
   "outputs": [
    {
     "name": "stdout",
     "output_type": "stream",
     "text": [
      "{'candidates': [{'content': {'parts': [{'text': 'AI learns from data to make decisions or predictions. \\n\\n(Essentially, it finds patterns and uses them!)\\n\\n\\n\\n'}], 'role': 'model'}, 'finishReason': 'STOP', 'index': 0}], 'usageMetadata': {'promptTokenCount': 8, 'totalTokenCount': 8, 'promptTokensDetails': [{'modality': 'TEXT', 'tokenCount': 8}]}, 'modelVersion': 'gemma-3-27b-it', 'responseId': 'siSuaPaSDe3pz7IPr9edoA0'}\n"
     ]
    }
   ],
   "source": [
    "print(response.json())"
   ]
  },
  {
   "cell_type": "code",
   "execution_count": 44,
   "id": "a95760ab",
   "metadata": {},
   "outputs": [],
   "source": [
    "objetivo = \"Aumentar la satisfacción del cliente en un 15% para el tercer trimestre de 2025, implementando un nuevo sistema de soporte en línea y capacitando al equipo de atención al cliente.\""
   ]
  },
  {
   "cell_type": "code",
   "execution_count": 45,
   "id": "7fdbbc5f",
   "metadata": {},
   "outputs": [],
   "source": [
    "prompt = 'Actúa como evaluador de objetivos académicos de tesis de pregrado. Recibirás el texto de un objetivo y debes determinar si está correctamente formulado y redactado. Tu salida debe limitarse únicamente a un JSON válido, sin texto adicional fuera de él.\\\n",
    "Evalúa lo siguiente:\\\n",
    "1) El objetivo debe comenzar con un único verbo en infinitivo de la taxonomía de Bloom (ejemplo: “Diseñar”, “Implementar”, “Analizar”).;\\\n",
    "2) Puede haber varios verbos pero solo debe estar en infinitivo el principal o el del inicio. Otros verbos en la redacción son permitidos siempre que complementen el objetivo.;\\\n",
    "3) El objetivo debe responder de forma explícita a estas tres preguntas: ¿Qué? la acción principal del proyecto. ¿Cómo? el método, estrategia o acciones para lograrlo. ¿Para qué? el propósito o impacto esperado.;\\\n",
    "4) Toma en cuenta el contexto de la carrera (como diseño, producción u otras áreas afines). En estos casos, un objetivo puede no responder explícitamente a las tres preguntas, pero no necesariamente está mal. En tal situación, debes evaluar si el nivel de claridad es suficiente y aclararlo en el campo “detalle”.;\\\n",
    "5) Si alguno de los puntos falla, marca “aprobado” como “NO” y explica en el campo “detalle” qué falta o qué está incorrecto.;\\\n",
    "6) En el campo \"sugerencias\" detalla que puede mejorar del texto del objetivo, ya sea que fue aprobado o no.\\\n",
    "\\\n",
    "Cuando el objetivo no cumpla, debes también devolver 3 ejemplos de objetivos alternativos bien redactados (opciones de mejora).\\\n",
    "Si el objetivo cumple en todo, deja “opciones de sugerencias” como lista vacía.\\\n",
    "\\\n",
    "En el campo “verbos”, incluye cualquier verbo principal en infinitivo usado de manera incorrecta o mal escrito; si no hay problemas, devuelve una lista vacía. No inventes datos que no estén en el objetivo.\\\n",
    "\\\n",
    "El formato de salida debe ser exactamente este:\\\n",
    "\\\n",
    "{\\\n",
    "\"aprobado\": \"SI\" | \"NO\",\\\n",
    "\"verbos\": [\"...\"],\\\n",
    "\"detalle\": \"\",\\\n",
    "\"sugerencias\": \"\",\\\n",
    "\"opciones de sugerencias\": [\"\", \"\", \"\"]\\\n",
    "}\\\n",
    "\\\n",
    "Objetivo a evaluar: \"\"\"' + objetivo + '\"\"\"\\\n",
    "\\\n",
    "Notas finales: No incluyas nada fuera del JSON. Si el objetivo es ambiguo o corresponde a un área en la que no siempre se expresan las tres preguntas, especifícalo en el campo “detalle” y sugiere en “sugerencias” cómo podría mejorar en claridad sin perder coherencia con la disciplina.'"
   ]
  },
  {
   "cell_type": "code",
   "execution_count": 46,
   "id": "77b81d40",
   "metadata": {},
   "outputs": [],
   "source": [
    "prompt = 'Actúa como evaluador de objetivos académicos de tesis de pregrado. Recibirás el texto de un objetivo y debes determinar si está correctamente formulado y redactado. Responde únicamente con un JSON válido y nada más.\\\n",
    "Criterios de evaluación:\\\n",
    "1. El objetivo debe comenzar con un único verbo en infinitivo de la taxonomía de Bloom (que responde a CONOCIMIENTO Recordar información, COMPRENSIÓN Interpretar información poniéndola en sus propias palabras, APLICACIÓN Usar el conocimiento o la generalización en una nueva situación, ANALISIS Dividir el conocimiento en partes y mostrar relaciones entre ellas, SÍNTESIS Juntar o unir, partes o fragmentos de conocimiento para formar un todo y contruir relaciones para situaciones nuevas, EVALUACIÓN Hacer juicios en base a criterios dados.\\\n",
    "ejemplo: Recordar: reconocer, definir, recordar, nombrar, memorizar, identificar, listar, describir. Comprender: interpretar, resumir, exponer, emparejar, comprender, clasificar. Aplicar: aplicar, seleccionar, organizar, generalizar, usar, desempeñar. Analizar: analizar, clasificar, categorizar, distinguir, atribuir, deconstruir, comparar. Evaluar: evaluar, juzgar, comparar, valorar, criticar, comprobar, revisar, experimentar. Crear: crear, planificar, construir, idear, trazar.).\\\n",
    "2. Puede haber varios verbos pero solo debe estar en infinitivo el principal o el del inicio. Los demás deben complementar.\\\n",
    "3. El objetivo debe responder de forma explícita a estas tres preguntas: ¿Qué? (acción), ¿Cómo? (método), ¿Para qué? (propósito o impacto).\\\n",
    "4. Si el objetivo no responde las tres preguntas pero es claro en su contexto disciplinar, puede considerarse válido. En tal caso, aclara en “detalle”.\\\n",
    "5. Si falla en los puntos 1, 2, 3 y 4 , marca “aprobado” como “NO” y explica qué falta o está incorrecto en “detalle”.\\\n",
    "6. En “sugerencias”, detalla cómo mejorar el objetivo, esté aprobado o no.\\\n",
    "7. Si no se aprueba, agrega 3 ejemplos de objetivos corregidos en “opciones de sugerencias”.\\\n",
    "8. En “verbos”, incluye cualquier verbo principal en infinitivo mal usado o fuera de lugar. Si no hay problema, deja la lista vacía.\\\n",
    "\\\n",
    "Formato de salida:\\\n",
    "{\\\n",
    "\"aprobado\": \"SI\" | \"NO\",\\\n",
    "\"verbos\": [\"...\"],\\\n",
    "\"detalle\": \"\",\\\n",
    "\"sugerencias\": \"\",\\\n",
    "\"opciones de sugerencias\": [\"\", \"\", \"\"]\\\n",
    "}\\\n",
    "\\\n",
    "Objetivo a evaluar: '+ objetivo"
   ]
  },
  {
   "cell_type": "code",
   "execution_count": 47,
   "id": "238e4af5",
   "metadata": {},
   "outputs": [
    {
     "data": {
      "text/plain": [
       "<Response [200]>"
      ]
     },
     "execution_count": 47,
     "metadata": {},
     "output_type": "execute_result"
    }
   ],
   "source": [
    "data = {\n",
    "    \"contents\": [\n",
    "        {\n",
    "            \"parts\": [\n",
    "                {\n",
    "                    \"text\": prompt\n",
    "                }\n",
    "            ]\n",
    "        }\n",
    "    ]\n",
    "}\n",
    "response = requests.post(url, headers=headers, json=data)\n",
    "response"
   ]
  },
  {
   "cell_type": "code",
   "execution_count": 48,
   "id": "dc6bc485",
   "metadata": {},
   "outputs": [
    {
     "data": {
      "text/plain": [
       "'{\\n  \"aprobado\": \"NO\",\\n  \"verbos\": [\"Aumentar\"],\\n  \"detalle\": \"El objetivo comienza con un verbo que no pertenece a la taxonomía de Bloom. Si bien es un objetivo claro en un contexto empresarial, no cumple con los criterios académicos de una tesis de pregrado. Falta la explicitud en el método de medición y el análisis del impacto más allá de la satisfacción del cliente. No responde a la pregunta de \\'cómo\\' se analizará el aumento de satisfacción.\",\\n  \"sugerencias\": \"El objetivo debe reformularse utilizando un verbo de la taxonomía de Bloom que implique un análisis o evaluación. Se debe especificar cómo se medirá la satisfacción del cliente y cómo se analizarán los resultados para determinar el impacto del nuevo sistema de soporte y la capacitación.\",\\n  \"opciones de sugerencias\": [\\n    \"Evaluar el impacto de la implementación de un nuevo sistema de soporte en línea y la capacitación del equipo de atención al cliente en la satisfacción del cliente, midiendo la percepción del cliente a través de encuestas y analizando los datos recopilados para identificar áreas de mejora.\",\\n    \"Analizar la relación entre la implementación de un nuevo sistema de soporte en línea, la capacitación del equipo de atención al cliente y los niveles de satisfacción del cliente, utilizando métodos estadísticos para determinar la significancia de los cambios observados.\",\\n    \"Determinar la efectividad de un nuevo sistema de soporte en línea y la capacitación del equipo de atención al cliente para mejorar la satisfacción del cliente, comparando los niveles de satisfacción antes y después de la implementación a través de pruebas t y análisis de varianza.\"\\n  ],\\n  \"verbos\": [\"Aumentar\"]\\n}'"
      ]
     },
     "execution_count": 48,
     "metadata": {},
     "output_type": "execute_result"
    }
   ],
   "source": [
    "response.json()[\"candidates\"][0][\"content\"][\"parts\"][0][\"text\"][8:-4]"
   ]
  },
  {
   "cell_type": "code",
   "execution_count": 49,
   "id": "8f114dee",
   "metadata": {},
   "outputs": [],
   "source": [
    "data = json.loads(response.json()[\"candidates\"][0][\"content\"][\"parts\"][0][\"text\"][8:-4])"
   ]
  },
  {
   "cell_type": "code",
   "execution_count": 50,
   "id": "9b15583e",
   "metadata": {},
   "outputs": [
    {
     "data": {
      "text/plain": [
       "{'aprobado': 'NO',\n",
       " 'verbos': ['Aumentar'],\n",
       " 'detalle': \"El objetivo comienza con un verbo que no pertenece a la taxonomía de Bloom. Si bien es un objetivo claro en un contexto empresarial, no cumple con los criterios académicos de una tesis de pregrado. Falta la explicitud en el método de medición y el análisis del impacto más allá de la satisfacción del cliente. No responde a la pregunta de 'cómo' se analizará el aumento de satisfacción.\",\n",
       " 'sugerencias': 'El objetivo debe reformularse utilizando un verbo de la taxonomía de Bloom que implique un análisis o evaluación. Se debe especificar cómo se medirá la satisfacción del cliente y cómo se analizarán los resultados para determinar el impacto del nuevo sistema de soporte y la capacitación.',\n",
       " 'opciones de sugerencias': ['Evaluar el impacto de la implementación de un nuevo sistema de soporte en línea y la capacitación del equipo de atención al cliente en la satisfacción del cliente, midiendo la percepción del cliente a través de encuestas y analizando los datos recopilados para identificar áreas de mejora.',\n",
       "  'Analizar la relación entre la implementación de un nuevo sistema de soporte en línea, la capacitación del equipo de atención al cliente y los niveles de satisfacción del cliente, utilizando métodos estadísticos para determinar la significancia de los cambios observados.',\n",
       "  'Determinar la efectividad de un nuevo sistema de soporte en línea y la capacitación del equipo de atención al cliente para mejorar la satisfacción del cliente, comparando los niveles de satisfacción antes y después de la implementación a través de pruebas t y análisis de varianza.']}"
      ]
     },
     "execution_count": 50,
     "metadata": {},
     "output_type": "execute_result"
    }
   ],
   "source": [
    "data"
   ]
  },
  {
   "cell_type": "code",
   "execution_count": null,
   "id": "457abea2",
   "metadata": {},
   "outputs": [],
   "source": []
  }
 ],
 "metadata": {
  "kernelspec": {
   "display_name": "Python 3",
   "language": "python",
   "name": "python3"
  },
  "language_info": {
   "codemirror_mode": {
    "name": "ipython",
    "version": 3
   },
   "file_extension": ".py",
   "mimetype": "text/x-python",
   "name": "python",
   "nbconvert_exporter": "python",
   "pygments_lexer": "ipython3",
   "version": "3.12.10"
  }
 },
 "nbformat": 4,
 "nbformat_minor": 5
}
