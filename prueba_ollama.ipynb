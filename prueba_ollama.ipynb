{
 "cells": [
  {
   "cell_type": "code",
   "execution_count": 13,
   "id": "b58e60d5",
   "metadata": {},
   "outputs": [],
   "source": [
    "from ollama import chat\n",
    "import json"
   ]
  },
  {
   "cell_type": "code",
   "execution_count": 5,
   "id": "2fb0d436",
   "metadata": {},
   "outputs": [],
   "source": [
    "response = chat(\n",
    "    model=\"gemma3:270m\",\n",
    "    messages=[\n",
    "        {\n",
    "            \"role\": \"user\",\n",
    "            \"content\": \"Why is the sky blue?\",\n",
    "        },\n",
    "    ],\n",
    ")"
   ]
  },
  {
   "cell_type": "code",
   "execution_count": 6,
   "id": "1b41975c",
   "metadata": {},
   "outputs": [
    {
     "name": "stdout",
     "output_type": "stream",
     "text": [
      "The sky is blue for a few key reasons:\n",
      "\n",
      "*   **Rayleigh Sunlight:** Sunlight is made up of all the colors of the rainbow. When sunlight enters the Earth's atmosphere, it travels through the air molecules. This process is called Rayleigh scattering.\n",
      "\n",
      "*   **Blue Light:** Blue light is scattered more than other colors. This scattering is due to the way the atoms in the air are arranged.\n",
      "\n",
      "*   **Our Eyes:** Our eyes are designed to see the colors of the visible light. When sunlight enters our eyes, it interacts with the atoms in the air, causing them to scatter the light in all directions.\n",
      "\n",
      "*   **Blue Color:** The blue color of the sky is due to a phenomenon called blue fluorescence. This is because the blue light is absorbed by the atoms in the air, causing them to emit light.\n",
      "\n",
      "In summary, the sky is blue because it is a result of the scattering of light by the air molecules, which is caused by Rayleigh scattering.\n"
     ]
    }
   ],
   "source": [
    "print(response.message.content)"
   ]
  },
  {
   "cell_type": "code",
   "execution_count": 7,
   "id": "48e305ed",
   "metadata": {},
   "outputs": [],
   "source": [
    "objetivo = \"Aumentar la satisfacción del cliente en un 15% para el tercer trimestre de 2025, implementando un nuevo sistema de soporte en línea y capacitando al equipo de atención al cliente.\""
   ]
  },
  {
   "cell_type": "code",
   "execution_count": 8,
   "id": "2bd28042",
   "metadata": {},
   "outputs": [],
   "source": [
    "prompt = ' \\\n",
    "    Actúa como evaluador de objetivos académicos de tesis de pregrado. Recibirás el texto de un objetivo y debes determinar si está correctamente formulado y redactado. Tu salida debe limitarse únicamente a un JSON válido, sin texto adicional fuera de él. Evalúa lo siguiente: \\\n",
    "        1) que el objetivo comience con un único verbo en infinitivo tomado de la taxonomía de Bloom (ejemplo: “Aumentar”, “Reducir”, “Implementar”); \\\n",
    "        2) que no exista más de un verbo en infinitivo; \\\n",
    "        3) que responda claramente a las preguntas: qué (acción principal), cómo (método o acciones) y para qué (propósito o impacto). \\\n",
    "    Si alguno de estos criterios falla, marca “aprobado” como “NO” y explica en el campo “detalle” qué falta o qué está incorrecto. Considera además que estos objetivos pertenecen a proyectos académicos de carreras como producción, diseño u otras áreas afines, y que en ese contexto no es necesario dar respuesta a las tres preguntas planteadas. \\\n",
    "    \\\n",
    "    Cuando el objetivo no cumpla, debes también generar 3 ejemplos alternativos de objetivos bien redactados, escritos en la forma adecuada. Si el objetivo cumple con todos los criterios, deja la lista de “opciones de sugerencias” vacía. \\\n",
    "    En el campo “verbos”, incluye cualquier verbo mal escrito o que no esté en infinitivo; si no hay problemas, devuélvelo como una lista vacía. No inventes datos que no estén en el objetivo. \\\n",
    "    El formato de salida debe ser exactamente este JSON: \\\n",
    "    {\"aprobado\": \"SI\" | \"NO\", \"verbos\": [\"...\"], \"detalle\": \"QUE ESTA MAL, QUE LE HACE FALTA EN CUMPLIMIENTO\", \"sugerencias\": \"QUE PUEDE MEJORAR SEMÁNTICAMENTE PARA SER APROBADO\", \"opciones de sugerencias\": [\"\", \"\", \"\"]} \\\n",
    "    \\\n",
    "    Objetivo a evaluar: \"\"\"' + objetivo + '\"\"\" \\\n",
    "    Notas finales: No incluyas nada fuera del JSON. Si el objetivo resulta ambiguo, explícitalo en el campo “detalle” y sugiere en “sugerencias” cómo reformularlo para mayor claridad. \\\n",
    "'"
   ]
  },
  {
   "cell_type": "code",
   "execution_count": 9,
   "id": "01961ae7",
   "metadata": {},
   "outputs": [],
   "source": [
    "response = chat(\n",
    "    model=\"gemma3:270m\",\n",
    "    messages=[\n",
    "        {\n",
    "            \"role\": \"user\",\n",
    "            \"content\": prompt,\n",
    "        },\n",
    "    ],\n",
    ")"
   ]
  },
  {
   "cell_type": "code",
   "execution_count": 10,
   "id": "af06fbe2",
   "metadata": {},
   "outputs": [
    {
     "name": "stdout",
     "output_type": "stream",
     "text": [
      "```json\n",
      "{\n",
      "  \"aprobado\": \"SI\",\n",
      "  \"verbos\": [\"Aumentar\", \"Reducir\", \"Implementar\", \"Capacitar\", \"Mejorar\", \"Aumentar\", \"Reducir\", \"Implementar\", \"Capacitar\", \"Mejorar\", \"Aumentar\", \"Reducir\", \"Implementar\", \"Capacitar\", \"Mejorar\", \"Aumentar\", \"Reducir\", \"Implementar\", \"Capacitar\", \"Mejorar\", \"Aumentar\", \"Reducir\", \"Implementar\", \"Capacitar\", \"Mejorar\", \"Aumentar\", \"Reducir\", \"Implementar\", \"Capacitar\", \"Mejorar\", \"Aumentar\", \"Reducir\", \"Implementar\", \"Capacitar\", \"Mejorar\", \"Aumentar\", \"Reducir\", \"Implementar\", \"Capacitar\", \"Mejorar\", \"Aumentar\", \"Reducir\", \"Implementar\", \"Capacitar\", \"Mejorar\", \"Aumentar\", \"Reducir\", \"Implementar\", \"Capacitar\", \"Mejorar\", \"Aumentar\", \"Reducir\", \"Implementar\", \"Capacitar\", \"Mejorar\", \"Aumentar\", \"Reducir\", \"Implementar\", \"Capacitar\", \"Mejorar\", \"Aumentar\", \"Reducir\", \"Implementar\", \"Capacitar\", \"Mejorar\", \"Aumentar\", \"Reducir\", \"Implementar\", \"Capacitar\", \"Mejorar\", \"Aumentar\", \"Reducir\", \"Implementar\", \"Capitular\", \"Mejorar\", \"Aumentar\", \"Reducir\", \"Implementar\", \"Capitular\", \"Mejorar\", \"Aumentar\", \"Reducir\", \"Implementar\", \"Capitular\", \"Mejorar\", \"Aumentar\", \"Reducir\", \"Implementar\", \"Capitular\", \"Mejorar\", \"Aumentar\", \"Reducir\", \"Implementar\", \"Capitular\", \"Mejorar\", \"Aumentar\", \"Reducir\", \"Implementar\", \"Capitular\", \"Mejorar\", \"Aumentar\", \"Reducir\", \"Implementar\", \"Capitular\", \"Mejorar\", \"Aumentar\", \"Reducir\", \"Implementar\", \"Capitular\", \"Mejorar\", \"Aumentar\", \"Reducir\", \"Implementar\", \"Capitular\", \"Mejorar\", \"Aumentar\", \"Reducir\", \"Implementar\", \"Capitular\", \"Mejorar\", \"Aumentar\", \"Reducir\", \"Implementar\", \"Capitular\", \"Mejorar\", \"Aumentar\", \"Reducir\", \"Implementar\", \"Capitular\", \"Mejorar\", \"Aumentar\", \"Reducir\", \"Implementar\", \"Capitular\", \"Mejorar\", \"Aumentar\", \"Reducir\", \"Implementar\", \"Capitular\", \"Mejorar\", \"Aumentar\", \"Reducir\", \"Implementar\", \"Capitular\", \"Mejorar\", \"Aumentar\", \"Reducir\", \"Implementar\", \"Capitular\", \"Mejorar\", \"Aumentar\", \"Reducir\", \"Implementar\", \"Capitular\", \"Mejorar\", \"Aumentar\", \"Reducir\", \"Implementar\", \"Capitular\", \"Mejorar\", \"Aumentar\", \"Reducir\", \"Implementar\", \"Capitular\", \"Mejorar\", \"Aumentar\", \"Reducir\", \"Implementar\", \"Capitular\", \"Mejorar\", \"Aumentar\", \"Reducir\", \"Implementar\", \"Capitular\", \"Mejorar\", \"Aumentar\", \"Reducir\", \"Implementar\", \"Capitular\", \"Mejorar\", \"Aumentar\", \"Reducir\", \"Implementar\", \"Capitular\", \"Mejorar\", \"Aumentar\", \"Reducir\", \"Implementar\", \"Capitular\", \"Mejorar\", \"Aumentar\", \"Reducir\", \"Implementar\", \"Capitular\", \"Mejorar\", \"Aumentar\", \"Reducir\", \"Implementar\", \"Capitular\", \"Mejorar\", \"Aumentar\", \"Reducir\", \"Implementar\", \"Capitular\", \"Mejorar\", \"Aumentar\", \"Reducir\", \"Implementar\", \"Capitular\", \"Mejorar\", \"Aumentar\", \"Reducir\", \"Implementar\", \"Capitular\", \"Mejorar\", \"Aumentar\", \"Reducir\", \"Implementar\", \"Capitular\", \"Mejorar\", \"Aumentar\", \"Reducir\", \"Implementar\", \"Capitular\", \"Mejorar\", \"Aumentar\", \"Reducir\", \"Implementar\", \"Capitular\", \"Mejorar\", \"Aumentar\", \"Reducir\", \"Implementar\", \"Capitular\", \"Mejorar\", \"Aumentar\", \"Reducir\", \"Implementar\", \"Capitular\", \"Mejorar\", \"Aumentar\", \"Reducir\", \"Implementar\", \"Capitular\", \"Mejorar\", \"Aumentar\", \"Reducir\", \"Implementar\", \"Capitular\", \"Mejorar\", \"Aumentar\", \"Reducir\", \"Implementar\", \"Capitular\", \"Mejorar\", \"Aumentar\", \"Reducir\", \"Implementar\", \"Capitular\", \"Mejorar\", \"Aumentar\", \"Reducir\", \"Implementar\", \"Capitular\", \"Mejorar\", \"Aumentar\", \"Reducir\", \"Implementar\", \"Capitular\", \"Mejorar\", \"Aumentar\", \"Reducir\", \"Implementar\", \"Capitular\", \"Mejorar\", \"Aumentar\", \"Reducir\", \"Implementar\", \"Capitular\", \"Mejorar\", \"Aumentar\", \"Reducir\", \"Implementar\", \"Capitular\", \"Mejorar\", \"Aumentar\", \"Reducir\", \"Implementar\", \"Capitular\", \"Mejorar\", \"Aumentar\", \"Reducir\", \"Implementar\", \"Capitular\", \"Mejorar\", \"Aumentar\", \"Reducir\", \"Implementar\", \"Capitular\", \"Mejorar\", \"Aumentar\", \"Reducir\", \"Implementar\", \"Capitular\", \"Mejorar\", \"Aumentar\", \"Reducir\", \"Implementar\", \"Capitular\", \"Mejorar\", \"Aumentar\", \"Reducir\", \"Implementar\", \"Capitular\", \"Mejorar\", \"Aumentar\", \"Reducir\", \"Implementar\", \"Capitular\", \"Mejorar\", \"Aumentar\", \"Reducir\", \"Implementar\", \"Capitular\", \"Mejorar\", \"Aumentar\", \"Reducir\", \"Implementar\", \"Capitular\", \"Mejorar\", \"Aumentar\", \"Reducir\", \"Implementar\", \"Capitular\", \"Mejorar\", \"Aumentar\", \"Reducir\", \"Implementar\", \"Capitular\", \"Mejorar\", \"Aumentar\", \"Reducir\", \"Implementar\", \"Capitular\", \"Mejorar\", \"Aumentar\", \"Reducir\", \"Implementar\", \"Capitular\", \"Mejorar\", \"Aumentar\", \"Reducir\", \"Implementar\", \"Capitular\", \"Mejorar\", \"Aumentar\", \"Reducir\", \"Implementar\", \"Capitular\", \"Mejorar\", \"Aumentar\", \"Reducir\", \"Implementar\", \"Capitular\", \"Mejorar\", \"Aumentar\", \"Reducir\", \"Implementar\", \"Capitular\", \"Mejorar\", \"Aumentar\", \"Reducir\", \"Implementar\", \"Capitular\", \"Mejorar\", \"Aumentar\", \"Reducir\", \"Implementar\", \"Capitular\", \"Mejorar\", \"Aumentar\", \"Reducir\", \"Implementar\", \"Capitular\", \"Mejorar\", \"Aumentar\", \"Reducir\", \"Implementar\", \"Capitular\", \"Mejorar\", \"Aumentar\", \"Reducir\", \"Implementar\", \"Capitular\", \"Mejorar\", \"Aumentar\", \"Reducir\", \"Implementar\", \"Capitular\", \"Mejorar\", \"Aumentar\", \"Reducir\", \"Implementar\", \"Capitular\", \"Mejorar\", \"Aumentar\", \"Reducir\", \"Implementar\", \"Capitular\", \"Mejorar\", \"Aumentar\", \"Reducir\", \"Implementar\", \"Capitular\", \"Mejorar\", \"Aumentar\", \"Reducir\", \"Implementar\", \"Capitular\", \"Mejorar\", \"Aumentar\", \"Reducir\", \"Implementar\", \"Capitular\", \"Mejorar\", \"Aumentar\", \"Reducir\", \"Implementar\", \"Capitular\", \"Mejorar\", \"Aumentar\", \"Reducir\", \"Implementar\", \"Capitular\", \"Mejorar\", \"Aumentar\", \"Reducir\", \"Implementar\", \"Capitular\", \"Mejorar\", \"Aumentar\", \"Reducir\", \"Implementar\", \"Capitular\", \"Mejorar\", \"Aumentar\", \"Reducir\", \"Implementar\", \"Capitular\", \"Mejorar\", \"Aumentar\", \"Reducir\", \"Implementar\", \"Capitular\", \"Mejorar\", \"Aumentar\", \"Reducir\", \"Implementar\", \"Capitular\", \"Mejorar\", \"Aumentar\", \"Reducir\", \"Implementar\", \"Capitular\", \"Mejorar\", \"Aumentar\", \"Reducir\", \"Implementar\", \"Capitular\", \"Mejorar\", \"Aumentar\", \"Reducir\", \"Implementar\", \"Capitular\", \"Mejorar\", \"Aumentar\", \"Reducir\", \"Implementar\", \"Capitular\", \"Mejorar\", \"Aumentar\", \"Reducir\", \"Implementar\", \"Capitular\", \"Mejorar\", \"Aumentar\", \"Reducir\", \"Implementar\", \"Capitular\", \"Mejorar\", \"Aumentar\", \"Reducir\", \"Implementar\", \"Capitular\", \"Mejorar\", \"Aumentar\", \"Reducir\", \"Implementar\", \"Capitular\", \"Mejorar\", \"Aumentar\", \"Reducir\", \"Implementar\", \"Capitular\", \"Mejorar\", \"Aumentar\", \"Reducir\", \"Implementar\", \"Capitular\", \"Mejorar\", \"Aumentar\", \"Reducir\", \"Implementar\", \"Capitular\", \"Mejorar\", \"Aumentar\", \"Reducir\", \"Implementar\", \"Capitular\", \"Mejorar\", \"Aumentar\", \"Reducir\", \"Implementar\", \"Capitular\", \"Mejorar\", \"Aumentar\", \"Reducir\", \"Implementar\", \"Capitular\", \"Mejorar\", \"Aumentar\", \"Reducir\", \"Implementar\", \"Capitular\", \"Mejorar\", \"Aumentar\", \"Reducir\", \"Implementar\", \"Capitular\", \"Mejorar\", \"Aumentar\", \"Reducir\", \"Implementar\", \"Capitular\", \"Mejorar\", \"Aumentar\", \"Reducir\", \"Implementar\", \"Capitular\", \"Mejorar\", \"Aumentar\", \"Reducir\", \"Implementar\", \"Capitular\", \"Mejorar\", \"Aumentar\", \"Reducir\", \"Implementar\", \"Capitular\", \"Mejorar\", \"Aumentar\", \"Reducir\", \"Implementar\", \"Capitular\", \"Mejorar\", \"Aumentar\", \"Reducir\", \"Implementar\", \"Capitular\", \"Mejorar\", \"Aumentar\", \"Reducir\", \"Implementar\", \"Capitular\", \"Mejorar\", \"Aumentar\", \"Reducir\", \"Implementar\", \"Capitular\", \"Mejorar\", \"Aumentar\", \"Reducir\", \"Implementar\", \"Capitular\", \"Mejorar\", \"Aumentar\", \"Reducir\", \"Implementar\", \"Capitular\", \"Mejorar\", \"Aumentar\", \"Reducir\", \"Implementar\", \"Capitular\", \"Mejorar\", \"Aumentar\", \"Reducir\", \"Implementar\", \"Capitular\", \"Mejorar\", \"Aumentar\", \"Reducir\", \"Implementar\", \"Capitular\", \"Mejorar\", \"Aumentar\", \"Reducir\", \"Implementar\", \"Capitular\", \"Mejorar\", \"Aumentar\", \"Reducir\", \"Implementar\", \"Capitular\", \"Mejorar\", \"Aumentar\", \"Reducir\", \"Implementar\", \"Capitular\", \"Mejorar\", \"Aumentar\", \"Reducir\", \"Implementar\", \"Capitular\", \"Mejorar\", \"Aumentar\", \"Reducir\", \"Implementar\", \"Capitular\", \"Mejorar\", \"Aumentar\", \"Reducir\", \"Implementar\", \"Capitular\", \"Mejorar\", \"Aumentar\", \"Reducir\", \"Implementar\", \"Capitular\", \"Mejorar\", \"Aumentar\", \"Reducir\", \"Implementar\", \"Capitular\", \"Mejorar\", \"Aumentar\", \"Reducir\", \"Implementar\", \"Capitular\", \"Mejorar\", \"Aumentar\", \"Reducir\", \"Implementar\", \"Capitular\", \"Mejorar\", \"Aumentar\", \"Reducir\", \"Implementar\", \"Capitular\", \"Mejorar\", \"Aumentar\", \"Reducir\", \"Implementar\", \"Capitular\", \"Mejorar\", \"Aumentar\", \"Reducir\", \"Implementar\", \"Capitular\", \"Mejorar\", \"Aumentar\", \"Reducir\", \"Implementar\", \"Capitular\", \"Mejorar\", \"Aumentar\", \"Reducir\", \"Implementar\", \"Capitular\", \"Mejorar\", \"Aumentar\", \"Reducir\", \"Implementar\", \"Capitular\", \"Mejorar\", \"Aumentar\", \"Reducir\", \"Implementar\", \"Capitular\", \"Mejorar\", \"Aumentar\", \"Reducir\", \"Implementar\", \"Capitular\", \"Mejorar\", \"Aumentar\", \"Reducir\", \"Implementar\", \"Capitular\", \"Mejorar\", \"Aumentar\", \"Reducir\", \"Implementar\", \"Capitular\", \"Mejorar\", \"Aumentar\", \"Reducir\", \"Implementar\", \"Capitular\", \"Mejorar\", \"Aumentar\", \"Reducir\", \"Implementar\", \"Capitular\", \"Mejorar\", \"Aumentar\", \"Reducir\", \"Implementar\", \"Capitular\", \"Mejorar\", \"Aumentar\", \"Reducir\", \"Implementar\", \"Capitular\", \"Mejorar\", \"Aumentar\", \"Reducir\", \"Implementar\", \"Capitular\", \"Mejorar\", \"Aumentar\", \"Reducir\", \"Implementar\", \"Capitular\", \"Mejorar\", \"Aumentar\", \"Reducir\", \"Implementar\", \"Capitular\", \"Mejorar\", \"Aumentar\", \"Implementar\", \"Capitular\", \"Mejorar\", \"Reducir\", \"Implementar\", \"Capitular\", \"Mejorar\", \"Implementar\", \"Capitular\", \"Mejorar\", \"Aumentar\", \"Implementar\", \"Capitular\", \"Mejorar\", \"Reducir\", \"Implementar\", \"Capitular\", \"Mejorar\", \"Implementar\", \"Capitular\", \"Mejorar\", \"Atenion\"\n",
      "ايجابیت‌ها:\n",
      "* **سهولت کار:** ساده و سریع برای انجام استراحت و تمرکز.\n",
      "* **مرتب‌بندی:** امکان مدیریت و مرتب‌بندی استراحت.\n",
      "* **تنوع:** امکان انتخاب گزینه‌ها با توجه به زمان و سطح تمرکز.\n",
      "* **قابلیت‌های هوشمند:** امکان اتصال به دستگاه‌های هوشمند.\n",
      "\n",
      "```python\n",
      "def main():\n",
      "    try:\n",
      "        print(\"مستندات استراحت را به ما بگویید.\")\n",
      "        print(\"مستندات استراحت را به ما بگویید.\")\n",
      "        print(\"مستندات استراحت را به ما بگویید.\")\n",
      "        print(\"مستندات استراحت را به ما بگویید.\")\n",
      "        print(\"مستندات استراحت را به ما بگویید.\")\n",
      "        print(\"مستندات استراحت را به ما بگویید.\")\n",
      "        print(\"مستندات استراحت را به ما بگویید.\")\n",
      "\n",
      "    except Exception as e:\n",
      "бивم:\n",
      "    print(f\"خطا در برنامه: {e}\")\n",
      "\n",
      "if __name__ == \"__main__\":\n",
      "    main()\n",
      "```\n",
      "\n",
      "این کد به طور کلی یک برنامه استراحت است. این برنامه به شما کمک می‌کند تا استراحت را مدیریت کنید و به طور فعال به خودتان در این کار کمک کنید.\n",
      "\n"
     ]
    }
   ],
   "source": [
    "print(response.message.content)"
   ]
  },
  {
   "cell_type": "code",
   "execution_count": null,
   "id": "1af641a6",
   "metadata": {},
   "outputs": [],
   "source": [
    "response = chat(\n",
    "    model=\"llama3.1\",\n",
    "    messages=[\n",
    "        {\n",
    "            \"role\": \"user\",\n",
    "            \"content\": prompt,\n",
    "        },\n",
    "    ],\n",
    ")"
   ]
  },
  {
   "cell_type": "code",
   "execution_count": 12,
   "id": "4e4ff6d7",
   "metadata": {},
   "outputs": [
    {
     "name": "stdout",
     "output_type": "stream",
     "text": [
      "{\"aprobado\": \"NO\", \"verbos\": [\"implementar\", \"capacitar\"], \"detalle\": \"Que no cumple con los criterios de número de verbos, el objetivo tiene dos verbos en infinitivo\", \"sugerencias\": \"Que se utilice solo un verbo en infinitivo y que no est\\u00e9n incluidas las acciones\", \"opciones de sugerencias\": [\"Aumentar la satisfacci\\u00f3n del cliente en un 15% para el tercer trimestre de 2025, implementando un nuevo sistema de soporte en l\\u00f1nea.\", \"Reducir la respuesta de los clientes en un 20% para el tercer trimestre de 2025, capacitando al equipo de atenci\\u00f3n al cliente.\", \"Mejorar la satisfaci\\u00f3n del cliente en un 10% para el tercer trimestre de 2025, desarrollando un nuevo sistema de soporte.\"]\n"
     ]
    }
   ],
   "source": [
    "print(response.message.content)"
   ]
  },
  {
   "cell_type": "code",
   "execution_count": 15,
   "id": "8d91a815",
   "metadata": {},
   "outputs": [],
   "source": [
    "data = json.loads(response.message.content + \"}\")"
   ]
  },
  {
   "cell_type": "code",
   "execution_count": 16,
   "id": "77764548",
   "metadata": {},
   "outputs": [
    {
     "data": {
      "text/plain": [
       "{'aprobado': 'NO',\n",
       " 'verbos': ['implementar', 'capacitar'],\n",
       " 'detalle': 'Que no cumple con los criterios de número de verbos, el objetivo tiene dos verbos en infinitivo',\n",
       " 'sugerencias': 'Que se utilice solo un verbo en infinitivo y que no estén incluidas las acciones',\n",
       " 'opciones de sugerencias': ['Aumentar la satisfacción del cliente en un 15% para el tercer trimestre de 2025, implementando un nuevo sistema de soporte en lñnea.',\n",
       "  'Reducir la respuesta de los clientes en un 20% para el tercer trimestre de 2025, capacitando al equipo de atención al cliente.',\n",
       "  'Mejorar la satisfación del cliente en un 10% para el tercer trimestre de 2025, desarrollando un nuevo sistema de soporte.']}"
      ]
     },
     "execution_count": 16,
     "metadata": {},
     "output_type": "execute_result"
    }
   ],
   "source": [
    "data"
   ]
  },
  {
   "cell_type": "code",
   "execution_count": null,
   "id": "b89a4f2c",
   "metadata": {},
   "outputs": [],
   "source": [
    "response = chat(\n",
    "    model=\"deepseek-r1\", # deepseek-r1:14b\n",
    "    messages=[\n",
    "        {\n",
    "            \"role\": \"user\",\n",
    "            \"content\": prompt,\n",
    "        },\n",
    "    ],\n",
    ")"
   ]
  },
  {
   "cell_type": "code",
   "execution_count": null,
   "id": "ee105a04",
   "metadata": {},
   "outputs": [
    {
     "name": "stdout",
     "output_type": "stream",
     "text": [
      "{\"aprobado\": \"NO\", \"verbos\": [\"implementar\", \"capacitar\"], \"detalle\": \"Que no cumple con los criterios de número de verbos, el objetivo tiene dos verbos en infinitivo\", \"sugerencias\": \"Que se utilice solo un verbo en infinitivo y que no est\\u00e9n incluidas las acciones\", \"opciones de sugerencias\": [\"Aumentar la satisfacci\\u00f3n del cliente en un 15% para el tercer trimestre de 2025, implementando un nuevo sistema de soporte en l\\u00f1nea.\", \"Reducir la respuesta de los clientes en un 20% para el tercer trimestre de 2025, capacitando al equipo de atenci\\u00f3n al cliente.\", \"Mejorar la satisfaci\\u00f3n del cliente en un 10% para el tercer trimestre de 2025, desarrollando un nuevo sistema de soporte.\"]\n"
     ]
    }
   ],
   "source": [
    "print(response.message.content)"
   ]
  }
 ],
 "metadata": {
  "kernelspec": {
   "display_name": "Python 3",
   "language": "python",
   "name": "python3"
  },
  "language_info": {
   "codemirror_mode": {
    "name": "ipython",
    "version": 3
   },
   "file_extension": ".py",
   "mimetype": "text/x-python",
   "name": "python",
   "nbconvert_exporter": "python",
   "pygments_lexer": "ipython3",
   "version": "3.12.10"
  }
 },
 "nbformat": 4,
 "nbformat_minor": 5
}
