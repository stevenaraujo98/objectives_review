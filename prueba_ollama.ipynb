{
 "cells": [
  {
   "cell_type": "code",
   "execution_count": 1,
   "id": "b58e60d5",
   "metadata": {},
   "outputs": [],
   "source": [
    "from ollama import chat\n",
    "import json"
   ]
  },
  {
   "cell_type": "code",
   "execution_count": 2,
   "id": "208d337d",
   "metadata": {},
   "outputs": [],
   "source": [
    "def request_chat(model=\"gemma3:270m\", prompt=\"hola\"):\n",
    "    response = chat(\n",
    "        model=model,\n",
    "        messages=[\n",
    "            {\n",
    "                \"role\": \"user\",\n",
    "                \"content\": prompt,\n",
    "            },\n",
    "            # {\"role\": \"user\", \"content\": content},\n",
    "            # {\"role\": \"user\", \"content\": question},\n",
    "        ],\n",
    "        # stream=True,\n",
    "    )\n",
    "\n",
    "    return response"
   ]
  },
  {
   "cell_type": "code",
   "execution_count": 3,
   "id": "2fb0d436",
   "metadata": {},
   "outputs": [],
   "source": [
    "response = request_chat(prompt=\"Why is the sky blue?\")"
   ]
  },
  {
   "cell_type": "code",
   "execution_count": 4,
   "id": "1b41975c",
   "metadata": {},
   "outputs": [
    {
     "name": "stdout",
     "output_type": "stream",
     "text": [
      "The sky is blue because of a phenomenon called **Rayleigh Sunlight**.\n",
      "\n",
      "Here's a breakdown of why it's blue:\n",
      "\n",
      "*   **Sunlight is made of all colors of the rainbow:** Sunlight is actually made up of all the colors of the rainbow, which are red, orange, yellow, green, blue, indigo, and violet.\n",
      "*   **Rayleigh Scattering:** When sunlight enters the Earth's atmosphere, it collides with tiny air molecules (mostly nitrogen and oxygen). This collision causes the sunlight to scatter in all directions.\n",
      "*   **Blue Light is Scattered More:** The scattered light is much more efficiently reflected than the light that is not scattered. This means that blue light is scattered more in all directions, giving the sky its characteristic blue color.\n",
      "\n",
      "Essentially, the blue color of the sky is a result of the incredible amount of light that passes through the Earth's atmosphere, and the scattering of that light by air molecules.\n"
     ]
    }
   ],
   "source": [
    "print(response.message.content)"
   ]
  },
  {
   "cell_type": "code",
   "execution_count": 5,
   "id": "48e305ed",
   "metadata": {},
   "outputs": [],
   "source": [
    "objetivo = \"Aumentar la satisfacción del cliente en un 15% para el tercer trimestre de 2025, implementando un nuevo sistema de soporte en línea y capacitando al equipo de atención al cliente.\""
   ]
  },
  {
   "cell_type": "code",
   "execution_count": 6,
   "id": "2bd28042",
   "metadata": {},
   "outputs": [],
   "source": [
    "prompt = 'Actúa como evaluador de objetivos académicos de tesis de pregrado. Recibirás el texto de un objetivo y debes determinar si está correctamente formulado y redactado. Tu salida debe limitarse únicamente a un JSON válido, sin texto adicional fuera de él.\\\n",
    "Evalúa lo siguiente:\\\n",
    "1) El objetivo debe comenzar con un único verbo en infinitivo de la taxonomía de Bloom (ejemplo: “Diseñar”, “Implementar”, “Analizar”).;\\\n",
    "2) Puede haber varios verbos pero solo debe estar en infinitivo el principal o el del inicio, los otros verbos en la redacción son permitidos siempre que complementen el objetivo.\\\n",
    "3) El objetivo debe responder de forma explícita a estas tres preguntas: ¿Qué? la acción principal del proyecto. ¿Cómo? el método, estrategia o acciones para lograrlo. ¿Para qué? el propósito o impacto esperado.;\\\n",
    "4) Toma en cuenta el contexto de la carrera (como diseño, producción u otras áreas afines). En estos casos, un objetivo puede no responder explícitamente a las tres preguntas, pero no necesariamente está mal. En tal situación, debes evaluar si el nivel de claridad es suficiente y aclararlo en el campo “detalle”.;\\\n",
    "5) Si alguno de los puntos falla, marca “aprobado” como “NO” y explica en el campo “detalle” qué falta o qué está incorrecto.;\\\n",
    "6) En el campo \"sugerencias\" detalla que puede mejorar del texto del objetivo, ya sea que fue aprobado o no.\\\n",
    "\\\n",
    "Cuando el objetivo no cumpla, debes también devolver 3 ejemplos de objetivos alternativos bien redactados (opciones de mejora).\\\n",
    "Si el objetivo cumple en todo, deja “opciones de sugerencias” como lista vacía.\\\n",
    "\\\n",
    "En el campo “verbos”, incluye cualquier verbo principal en infinitivo usado de manera incorrecta o mal escrito; si no hay problemas, devuelve una lista vacía. No inventes datos que no estén en el objetivo.\\\n",
    "\\\n",
    "El formato de salida debe ser exactamente este:\\\n",
    "\\\n",
    "{\\\n",
    "\"aprobado\": \"SI\" | \"NO\",\\\n",
    "\"verbos\": [\"...\"],\\\n",
    "\"detalle\": \"\",\\\n",
    "\"sugerencias\": \"\",\\\n",
    "\"opciones de sugerencias\": [\"\", \"\", \"\"]\\\n",
    "}\\\n",
    "\\\n",
    "Objetivo a evaluar: \"\"\"' + objetivo + '\"\"\"\\\n",
    "\\\n",
    "Notas finales: No incluyas nada fuera del JSON. Si el objetivo es ambiguo o corresponde a un área en la que no siempre se expresan las tres preguntas, especifícalo en el campo “detalle” y sugiere en “sugerencias” cómo podría mejorar en claridad sin perder coherencia con la disciplina.'"
   ]
  },
  {
   "cell_type": "code",
   "execution_count": 7,
   "id": "fc51e60b",
   "metadata": {},
   "outputs": [],
   "source": [
    "prompt = 'Actúa como evaluador de objetivos académicos de tesis de pregrado. Recibirás el texto de un objetivo y debes determinar si está correctamente formulado y redactado. Responde únicamente con un JSON válido y nada más.\\\n",
    "Criterios de evaluación:\\\n",
    "1. El objetivo debe comenzar con un único verbo en infinitivo de la taxonomía de Bloom (que responde a CONOCIMIENTO Recordar información, COMPRENSIÓN Interpretar información poniéndola en sus propias palabras, APLICACIÓN Usar el conocimiento o la generalización en una nueva situación, ANALISIS Dividir el conocimiento en partes y mostrar relaciones entre ellas, SÍNTESIS Juntar o unir, partes o fragmentos de conocimiento para formar un todo y contruir relaciones para situaciones nuevas, EVALUACIÓN Hacer juicios en base a criterios dados.\\\n",
    "ejemplo: Recordar: reconocer, definir, recordar, nombrar, memorizar, identificar, listar, describir. Comprender: interpretar, resumir, exponer, emparejar, comprender, clasificar. Aplicar: aplicar, seleccionar, organizar, generalizar, usar, desempeñar. Analizar: analizar, clasificar, categorizar, distinguir, atribuir, deconstruir, comparar. Evaluar: evaluar, juzgar, comparar, valorar, criticar, comprobar, revisar, experimentar. Crear: crear, planificar, construir, idear, trazar.).\\\n",
    "2. Puede haber varios verbos pero solo debe estar en infinitivo el principal o el del inicio. Los demás deben complementar.\\\n",
    "3. El objetivo debe responder de forma explícita a estas tres preguntas: ¿Qué? (acción), ¿Cómo? (método), ¿Para qué? (propósito o impacto).\\\n",
    "4. Si el objetivo no responde las tres preguntas pero es claro en su contexto disciplinar, puede considerarse válido. En tal caso, aclara en “detalle”.\\\n",
    "5. Si falla en los puntos 1, 2, 3 y 4 , marca “aprobado” como “NO” y explica qué falta o está incorrecto en “detalle”.\\\n",
    "6. En “sugerencias”, detalla cómo mejorar el objetivo, esté aprobado o no.\\\n",
    "7. Si no se aprueba, agrega 3 ejemplos de objetivos corregidos en “opciones de sugerencias”.\\\n",
    "8. En “verbos”, incluye cualquier verbo principal en infinitivo mal usado o fuera de lugar. Si no hay problema, deja la lista vacía.\\\n",
    "\\\n",
    "Formato de salida:\\\n",
    "{\\\n",
    "\"aprobado\": \"SI\" | \"NO\",\\\n",
    "\"verbos\": [\"...\"],\\\n",
    "\"detalle\": \"\",\\\n",
    "\"sugerencias\": \"\",\\\n",
    "\"opciones de sugerencias\": [\"\", \"\", \"\"]\\\n",
    "}\\\n",
    "\\\n",
    "Objetivo a evaluar: '+ objetivo"
   ]
  },
  {
   "cell_type": "code",
   "execution_count": 8,
   "id": "07f86343",
   "metadata": {},
   "outputs": [
    {
     "data": {
      "text/plain": [
       "'Actúa como evaluador de objetivos académicos de tesis de pregrado. Recibirás el texto de un objetivo y debes determinar si está correctamente formulado y redactado. Responde únicamente con un JSON válido y nada más.Criterios de evaluación:1. El objetivo debe comenzar con un único verbo en infinitivo de la taxonomía de Bloom (que responde a CONOCIMIENTO Recordar información, COMPRENSIÓN Interpretar información poniéndola en sus propias palabras, APLICACIÓN Usar el conocimiento o la generalización en una nueva situación, ANALISIS Dividir el conocimiento en partes y mostrar relaciones entre ellas, SÍNTESIS Juntar o unir, partes o fragmentos de conocimiento para formar un todo y contruir relaciones para situaciones nuevas, EVALUACIÓN Hacer juicios en base a criterios dados.ejemplo: Recordar: reconocer, definir, recordar, nombrar, memorizar, identificar, listar, describir. Comprender: interpretar, resumir, exponer, emparejar, comprender, clasificar. Aplicar: aplicar, seleccionar, organizar, generalizar, usar, desempeñar. Analizar: analizar, clasificar, categorizar, distinguir, atribuir, deconstruir, comparar. Evaluar: evaluar, juzgar, comparar, valorar, criticar, comprobar, revisar, experimentar. Crear: crear, planificar, construir, idear, trazar.).2. Puede haber varios verbos pero solo debe estar en infinitivo el principal o el del inicio. Los demás deben complementar.3. El objetivo debe responder de forma explícita a estas tres preguntas: ¿Qué? (acción), ¿Cómo? (método), ¿Para qué? (propósito o impacto).4. Si el objetivo no responde las tres preguntas pero es claro en su contexto disciplinar, puede considerarse válido. En tal caso, aclara en “detalle”.5. Si falla en los puntos 1, 2, 3 y 4 , marca “aprobado” como “NO” y explica qué falta o está incorrecto en “detalle”.6. En “sugerencias”, detalla cómo mejorar el objetivo, esté aprobado o no.7. Si no se aprueba, agrega 3 ejemplos de objetivos corregidos en “opciones de sugerencias”.8. En “verbos”, incluye cualquier verbo principal en infinitivo mal usado o fuera de lugar. Si no hay problema, deja la lista vacía.Formato de salida:{\"aprobado\": \"SI\" | \"NO\",\"verbos\": [\"...\"],\"detalle\": \"\",\"sugerencias\": \"\",\"opciones de sugerencias\": [\"\", \"\", \"\"]}Objetivo a evaluar: Aumentar la satisfacción del cliente en un 15% para el tercer trimestre de 2025, implementando un nuevo sistema de soporte en línea y capacitando al equipo de atención al cliente.'"
      ]
     },
     "execution_count": 8,
     "metadata": {},
     "output_type": "execute_result"
    }
   ],
   "source": [
    "prompt"
   ]
  },
  {
   "cell_type": "code",
   "execution_count": 9,
   "id": "0fe542a0",
   "metadata": {},
   "outputs": [
    {
     "name": "stdout",
     "output_type": "stream",
     "text": [
      "NAME                  ID              SIZE      MODIFIED     \n",
      "qwen3:14b             bdbd181c33f2    9.3 GB    2 hours ago     \n",
      "qwen3:latest          500a1f067a9f    5.2 GB    2 hours ago     \n",
      "qwen3:1.7b            8f68893c685c    1.4 GB    3 hours ago     \n",
      "deepseek-r1:7b        755ced02ce7b    4.7 GB    24 hours ago    \n",
      "deepseek-r1:1.5b      e0979632db5a    1.1 GB    24 hours ago    \n",
      "gemma3:12b            f4031aab637d    8.1 GB    24 hours ago    \n",
      "llama3.2:latest       a80c4f17acd5    2.0 GB    26 hours ago    \n",
      "gemma3:270m           e7d36fb2c3b3    291 MB    30 hours ago    \n",
      "deepseek-r1:14b       c333b7232bdb    9.0 GB    4 days ago      \n",
      "deepseek-r1:latest    6995872bfe4c    5.2 GB    4 days ago      \n",
      "llama3.1:latest       46e0c10c039e    4.9 GB    4 days ago      \n",
      "gemma3:latest         a2af6cc3eb7f    3.3 GB    4 days ago      \n"
     ]
    }
   ],
   "source": [
    "!ollama list"
   ]
  },
  {
   "cell_type": "markdown",
   "id": "1eef3328",
   "metadata": {},
   "source": [
    "### gemma3"
   ]
  },
  {
   "cell_type": "code",
   "execution_count": 10,
   "id": "01961ae7",
   "metadata": {},
   "outputs": [],
   "source": [
    "# response = request_chat(prompt=prompt)"
   ]
  },
  {
   "cell_type": "code",
   "execution_count": 11,
   "id": "af06fbe2",
   "metadata": {},
   "outputs": [],
   "source": [
    "# print(response.message.content)"
   ]
  },
  {
   "cell_type": "code",
   "execution_count": 12,
   "id": "8578c9d6",
   "metadata": {},
   "outputs": [],
   "source": [
    "response = request_chat(model=\"gemma3\", prompt=prompt) # 4b"
   ]
  },
  {
   "cell_type": "code",
   "execution_count": 13,
   "id": "a704bcdf",
   "metadata": {},
   "outputs": [
    {
     "name": "stdout",
     "output_type": "stream",
     "text": [
      "```json\n",
      "{\"aprobado\": \"SI\", \"verbos\": [\"implementando\", \"capacitando\"], \"detalle\": \"El objetivo responde a las preguntas ¿Qué? (implementando un nuevo sistema de soporte en línea, capacitando al equipo), ¿Cómo? (implementando un sistema, capacitando), ¿Para qué? (aumentar la satisfacción del cliente). El uso de ‘implementando’ y ‘capacitando’ es correcto. Sin embargo, el verbo principal debería ser en la taxonomía de Bloom.\",\"sugerencias\": \"Revisar el verbo principal para que se ajuste a la taxonomía de Bloom. Por ejemplo, cambiar a ‘Desarrollar’ o ‘Crear’.\",\"opciones de sugerencias\": [\"Evaluar la efectividad del nuevo sistema de soporte en línea para identificar áreas de mejora y optimizar la satisfacción del cliente.\"], [\"Diseñar e implementar un programa de capacitación para el equipo de atención al cliente, con el objetivo de aumentar la satisfacción del cliente en un 15% a través de la mejora de las respuestas y la resolución de problemas.\"], [\"Analizar los datos de satisfacción del cliente para identificar las principales razones de insatisfacción y desarrollar un plan de acción para aumentar la satisfacción del cliente en un 15% a través de la implementación de estrategias de mejora continua.\"]}\n",
      "```\n"
     ]
    }
   ],
   "source": [
    "print(response.message.content)"
   ]
  },
  {
   "cell_type": "code",
   "execution_count": 14,
   "id": "48beddd6",
   "metadata": {},
   "outputs": [],
   "source": [
    "response = request_chat(model=\"gemma3:12b\", prompt=prompt)"
   ]
  },
  {
   "cell_type": "code",
   "execution_count": 15,
   "id": "23a65fa1",
   "metadata": {},
   "outputs": [
    {
     "name": "stdout",
     "output_type": "stream",
     "text": [
      "```json\n",
      "{\"aprobado\": \"NO\",\"verbos\": [\"aumentar\"], \"detalle\": \"El objetivo no comienza con un verbo en infinitivo de la taxonomía de Bloom. Aunque 'aumentar' implica acción, no se alinea directamente con la taxonomía. Además, el objetivo es más un plan de acción que un objetivo claramente definido. No responde de manera explícita a las preguntas '¿Qué?', '¿Cómo?' y '¿Para qué?', aunque el contexto puede inferir parte del propósito. La cuantificación (15%) es un indicador, pero no define el objetivo en sí mismo.\",\"sugerencias\": \"Reformula el objetivo para que comience con un verbo en infinitivo de la taxonomía de Bloom que refleje la acción principal (por ejemplo, 'Analizar', 'Evaluar', 'Comprender' la satisfacción del cliente). Define qué se espera lograr con la mejora, no solo cómo se logrará. Asegúrate de que el objetivo sea observable y medible, pero enfócate en el resultado deseado más que en el plan de acción.\",\"opciones de sugerencias\": [\"Analizar los factores que influyen en la satisfacción del cliente para identificar áreas de mejora.\", \"Evaluar el impacto de las iniciativas de mejora de la experiencia del cliente en la retención y lealtad del cliente.\", \"Comprender la relación entre la percepción de valor del cliente y la satisfacción general en el tercer trimestre de 2025.\"]}\n",
      "```\n"
     ]
    }
   ],
   "source": [
    "print(response.message.content)"
   ]
  },
  {
   "cell_type": "markdown",
   "id": "e3d54693",
   "metadata": {},
   "source": [
    "### llama"
   ]
  },
  {
   "cell_type": "code",
   "execution_count": 16,
   "id": "1af641a6",
   "metadata": {},
   "outputs": [],
   "source": [
    "# response = request_chat(model=\"llama3.1\", prompt=prompt) # 8b"
   ]
  },
  {
   "cell_type": "code",
   "execution_count": 17,
   "id": "4e4ff6d7",
   "metadata": {},
   "outputs": [],
   "source": [
    "# print(response.message.content)"
   ]
  },
  {
   "cell_type": "code",
   "execution_count": 18,
   "id": "2c5cdba2",
   "metadata": {},
   "outputs": [],
   "source": [
    "# response = request_chat(model=\"llama3.2\", prompt=prompt) #3b"
   ]
  },
  {
   "cell_type": "code",
   "execution_count": 19,
   "id": "1aaa5c66",
   "metadata": {},
   "outputs": [],
   "source": [
    "# print(response.message.content)"
   ]
  },
  {
   "cell_type": "markdown",
   "id": "4e8e2fb1",
   "metadata": {},
   "source": [
    "### deepseek"
   ]
  },
  {
   "cell_type": "markdown",
   "id": "2b6741d4",
   "metadata": {},
   "source": [
    "1.5, 7, 8, 14"
   ]
  },
  {
   "cell_type": "code",
   "execution_count": 20,
   "id": "b89a4f2c",
   "metadata": {},
   "outputs": [],
   "source": [
    "response = request_chat(model=\"deepseek-r1\", prompt=prompt) #5b  # deepseek-r1:14b, deepseek-r1:7b 5min 21s, deepseek-r1:1.5b"
   ]
  },
  {
   "cell_type": "code",
   "execution_count": 21,
   "id": "ee105a04",
   "metadata": {},
   "outputs": [
    {
     "name": "stdout",
     "output_type": "stream",
     "text": [
      "<think>\n",
      "Okay, the user wants me to act as an evaluator for academic thesis objectives and assess a specific example they provided. They've given detailed criteria in JSON format that I need to follow precisely.\n",
      "\n",
      "The objective is: \"Aumentar la satisfacción del cliente en un 15% para el tercer trimestre de 2025, implementando un nuevo sistema de soporte en línea y capacitando al equipo de atención al cliente.\"\n",
      "\n",
      "I need to evaluate this against several criteria. First, check if it starts with a verb in infinitive from Bloom's taxonomy - the main verbs here should be \"Aumentar\" (to increase) and \"implementando\" (implanting). These don't match any of the standard academic verbs like Recordar, Comprender, Aplicar etc.\n",
      "\n",
      "Next, verify if it has only one primary verb in infinitive at the beginning - this objective starts with \"Aumentar,\" which is good, but then uses \"implementando\" as a method. According to criterion 2, that's acceptable since there can be multiple verbs but the main one should be an infinitive.\n",
      "\n",
      "Now check if it answers the three key questions: ¿Qué? (action), ¿Cómo? (method), ¿Para qué? (purpose). The action is clear - increasing client satisfaction by 15%. But the method (\"implementando\") and purpose don't align with standard academic thesis objectives. Thesis objectives usually focus on knowledge exploration rather than measurable outcomes or specific timelines.\n",
      "\n",
      "The user mentioned that if it doesn't respond to all three questions but is clear in its disciplinary context, it could still be valid. This objective clearly specifies an exact percentage increase by a particular deadline using two methods. That's not typical for academic research - these types of objectives are more common in business plans or operational goals.\n",
      "\n",
      "For verbs specifically: \"Aumentar\" (to increase) isn't part of Bloom's taxonomy, and \"implementando\" refers to execution rather than cognitive processes needed for thesis work.\n",
      "\n",
      "Since this fails several criteria, I need to mark it as \"NO.\" Then provide a detailed explanation about why it doesn't fit academic standards. In the suggestions section, I should explain how to improve it by focusing on knowledge exploration rather than specific outcomes. And finally, include three corrected examples that would meet the requirements.\n",
      "</think>\n",
      "```json\n",
      "{\n",
      "  \"aprobado\": \"NO\",\n",
      "  \"verbos\": [\"Aumentar\"],\n",
      "  \"detalle\": \"El objetivo contiene un verbo principal en infinitivo (aumentar) que no pertenece a la taxonomía de Bloom. Además, incluye una meta específica y concreta (aumentar satisfacción del cliente en un 15%) típica de objetivos operativos o de gestión, más adecuada para planes de acción que para un objetivo académico de tesis.\",\n",
      "  \"sugerencias\": \"Los objetivos académicos deben enfocarse en la exploración y construcción de conocimiento. Se recomienda reformular el objetivo utilizando verbos de Bloom centrados en procesos cognitivos como 'comprender', 'analizar' o 'evaluar'. Por ejemplo, si el trabajo es sobre mejora de servicios al cliente, un objetivo más académico podría ser: 'Comprender la relación entre la implementación del nuevo sistema de soporte y las estrategias de capacitación en la satisfacción del cliente.'\",\n",
      "  \"opciones_de_sugerencias\": [\n",
      "    \"Analizar el impacto del nuevo sistema de soporte en línea en la satisfacción del cliente, evaluando datos recabados antes y después de su implementación.\",\n",
      "    \"Evaluar las estrategias de capacitación del equipo de atención al cliente para determinar su efectividad en mejorar la satisfacción del cliente según criterios específicos.\",\n",
      "    \"Construir un modelo predictivo que relacione el uso del nuevo sistema de soporte en línea con cambios medibles en la satisfacción del cliente.\"\n",
      "  ]\n",
      "}\n",
      "```\n"
     ]
    }
   ],
   "source": [
    "print(response.message.content)"
   ]
  },
  {
   "cell_type": "code",
   "execution_count": 22,
   "id": "855fed7e",
   "metadata": {},
   "outputs": [],
   "source": [
    "# response = request_chat(model=\"deepseek-r1:1.5b\", prompt=prompt)"
   ]
  },
  {
   "cell_type": "code",
   "execution_count": 23,
   "id": "d52f0c09",
   "metadata": {},
   "outputs": [],
   "source": [
    "# print(response.message.content)"
   ]
  },
  {
   "cell_type": "markdown",
   "id": "1cdb7bd6",
   "metadata": {},
   "source": [
    "### qwen"
   ]
  },
  {
   "cell_type": "markdown",
   "id": "aacbd066",
   "metadata": {},
   "source": [
    "1.7, 8, 14"
   ]
  },
  {
   "cell_type": "code",
   "execution_count": 24,
   "id": "028dc74c",
   "metadata": {},
   "outputs": [],
   "source": [
    "# response = request_chat(model=\"qwen3\", prompt=prompt) # 8b # qwen3:14b, qwen3:1.7b"
   ]
  },
  {
   "cell_type": "code",
   "execution_count": 25,
   "id": "7cc34d1f",
   "metadata": {},
   "outputs": [],
   "source": [
    "# print(response.message.content)"
   ]
  },
  {
   "cell_type": "code",
   "execution_count": 26,
   "id": "de718e3e",
   "metadata": {},
   "outputs": [],
   "source": [
    "response = request_chat(model=\"qwen3:1.7b\", prompt=prompt)"
   ]
  },
  {
   "cell_type": "code",
   "execution_count": 27,
   "id": "5f7c4d65",
   "metadata": {},
   "outputs": [
    {
     "name": "stdout",
     "output_type": "stream",
     "text": [
      "<think>\n",
      "Okay, let's start by evaluating this thesis objective. The user provided the objective: \"Aumentar la satisfacción del cliente en un 15% para el tercer trimestre de 2025, implementando un nuevo sistema de soporte en línea y capacitando al equipo de atención al cliente.\"\n",
      "\n",
      "First, I need to check if it starts with the correct verb in the Bloom taxonomy. The main verb here is \"Aumentar,\" which is in the infinitive form. According to the criteria, the objective should start with a verb from the taxonomy, but the example shows that the main verb should be the first one. So, \"Aumentar\" is correct here.\n",
      "\n",
      "Next, the objective needs to answer the three questions: ¿Qué? (What), ¿Cómo? (How), and ¿Para qué? (Why or Purpose). Let's break it down.\n",
      "\n",
      "¿Qué? The objective mentions increasing customer satisfaction by 15% and implementing a new online support system and training the customer service team. So, \"Qué\" is addressed with the action of increasing satisfaction and the actions of implementing the system and training the team.\n",
      "\n",
      "¿Cómo? The objective doesn't specify the method or approach. It just mentions the actions, but not the method. So, \"Cómo\" is not clearly addressed. The user might need to specify how these actions will be carried out, like through specific strategies or steps.\n",
      "\n",
      "¿Para qué? The purpose is to increase customer satisfaction by 15% in the third quarter of 2025. This is clear, but the objective could be more detailed on the impact or the expected outcome.\n",
      "\n",
      "Now, checking the criteria again. The objective starts with the correct verb, but \"Cómo\" is missing. The objective is clear in its context but lacks the method. It also answers the purpose but not the how. So, according to the criteria, if it doesn't answer all three questions explicitly, it's considered valid but needs clarification. However, the user might consider it valid because it's clear in its context. But according to the strict criteria, since it's missing the \"Cómo\" part, it should be marked as \"NO\" and detailed.\n",
      "\n",
      "The verbs in the objective are \"Aumentar\" (main), but the rest are not in infinitive. The objective doesn't mention any other verbs, so the list would be empty.\n",
      "\n",
      "Suggestions would include adding the method, like specifying the strategies or steps to implement the system and train the team. Also, maybe adding the expected impact or how the satisfaction will be measured.\n",
      "\n",
      "The examples of corrected objectives would include ones that specify the method, add the impact, or clarify the purpose more clearly.\n",
      "</think>\n",
      "\n",
      "{\n",
      "  \"aprobado\": \"NO\",\n",
      "  \"verbos\": [],\n",
      "  \"detalle\": \"El objetivo no responde explícitamente a la pregunta ¿Cómo? (método) ni a la pregunta ¿Para qué? (propósito). Aunque es claro en su contexto disciplinar, faltan detalles sobre la metodología y el impacto concreto.\",\n",
      "  \"sugerencias\": [\n",
      "    \"Añadir el método: 'Implementando el sistema de soporte en línea mediante estrategias de comunicación y capacitación estructurada'\",\n",
      "    \"Clarificar el propósito: 'Fomentar la satisfacción del cliente mediante una transformación del proceso de atención al cliente'\",\n",
      "    \"Detallar el impacto: 'Evaluar la mejora en la satisfacción del cliente mediante encuestas y métricas de rendimiento'\"\n",
      "  ],\n",
      "  \"opciones de sugerencias\": [\n",
      "    \"Aumentar la satisfacción del cliente en un 15% para el tercer trimestre de 2025, implementando un nuevo sistema de soporte en línea mediante estrategias de comunicación y capacitación estructurada.\",\n",
      "    \"Mejorar la satisfacción del cliente en un 15% para el tercer trimestre de 2025, adoptando un enfoque de mejora continua en el proceso de atención al cliente y evaluando su efectividad.\",\n",
      "    \"Lograr un incremento del 15% en la satisfacción del cliente para el tercer trimestre de 2025, mediante la integración de un sistema de soporte en línea y la implementación de un programa de capacitación innovador.\"\n",
      "  ]\n",
      "}\n"
     ]
    }
   ],
   "source": [
    "print(response.message.content)"
   ]
  },
  {
   "cell_type": "code",
   "execution_count": 28,
   "id": "252269f6",
   "metadata": {},
   "outputs": [
    {
     "data": {
      "text/plain": [
       "(92213438500, None)"
      ]
     },
     "execution_count": 28,
     "metadata": {},
     "output_type": "execute_result"
    }
   ],
   "source": [
    "# ollama._types.ChatResponse\n",
    "response.total_duration, response.message.thinking"
   ]
  },
  {
   "cell_type": "markdown",
   "id": "a4941528",
   "metadata": {},
   "source": [
    "### Otra forma"
   ]
  },
  {
   "cell_type": "markdown",
   "id": "68506553",
   "metadata": {},
   "source": [
    "https://www.datacamp.com/tutorial/gemma-3-ollama"
   ]
  },
  {
   "cell_type": "code",
   "execution_count": 29,
   "id": "2ff8a912",
   "metadata": {},
   "outputs": [],
   "source": [
    "# import sys\n",
    "# from ollama import chat\n",
    "# def ask_questions_from_file(file_path):\n",
    "#     # Read the content of the text file\n",
    "#     with open(file_path, \"r\") as file:\n",
    "#         content = file.read()\n",
    "#     # Loop to keep asking questions\n",
    "#     while True:\n",
    "#         question = input(\"> \")\n",
    "#         print()\n",
    "#         if question.lower() == \"exit\":\n",
    "#             break\n",
    "#         # Use Gemma 3 to get answers\n",
    "#         stream = chat(\n",
    "#             model=\"gemma3\",\n",
    "#             messages=[\n",
    "#                 {\"role\": \"user\", \"content\": content},\n",
    "#                 {\"role\": \"user\", \"content\": question},\n",
    "#             ],\n",
    "#             stream=True,\n",
    "#         )\n",
    "#         for chunk in stream:\n",
    "#             print(chunk[\"message\"][\"content\"], end=\"\", flush=True)\n",
    "\n",
    "# if __name__ == \"__main__\":\n",
    "#     if len(sys.argv) != 2:\n",
    "#         print(\"Usage: python ask_file.py <path_to_text_file>\")\n",
    "#     else:\n",
    "#         file_path = sys.argv[1]\n",
    "#         ask_questions_from_file(file_path)"
   ]
  }
 ],
 "metadata": {
  "kernelspec": {
   "display_name": "Python 3",
   "language": "python",
   "name": "python3"
  },
  "language_info": {
   "codemirror_mode": {
    "name": "ipython",
    "version": 3
   },
   "file_extension": ".py",
   "mimetype": "text/x-python",
   "name": "python",
   "nbconvert_exporter": "python",
   "pygments_lexer": "ipython3",
   "version": "3.12.10"
  }
 },
 "nbformat": 4,
 "nbformat_minor": 5
}
